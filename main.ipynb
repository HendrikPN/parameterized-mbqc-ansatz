{
 "cells": [
  {
   "cell_type": "markdown",
   "metadata": {},
   "source": [
    "# Setup\n",
    "\n",
    "Install tensorflow and tensorflow quantum if necessary."
   ]
  },
  {
   "cell_type": "code",
   "execution_count": 26,
   "metadata": {},
   "outputs": [],
   "source": [
    "%load_ext autoreload"
   ]
  },
  {
   "cell_type": "code",
   "execution_count": 27,
   "metadata": {},
   "outputs": [
    {
     "name": "stdout",
     "output_type": "stream",
     "text": [
      "Requirement already satisfied: tensorflow==2.7.0 in /home/hpn/anaconda3/lib/python3.9/site-packages (2.7.0)\n",
      "Requirement already satisfied: tensorflow-estimator<2.8,~=2.7.0rc0 in /home/hpn/anaconda3/lib/python3.9/site-packages (from tensorflow==2.7.0) (2.7.0)\n",
      "Requirement already satisfied: typing-extensions>=3.6.6 in /home/hpn/anaconda3/lib/python3.9/site-packages (from tensorflow==2.7.0) (4.5.0)\n",
      "Requirement already satisfied: gast<0.5.0,>=0.2.1 in /home/hpn/anaconda3/lib/python3.9/site-packages (from tensorflow==2.7.0) (0.4.0)\n",
      "Requirement already satisfied: tensorboard~=2.6 in /home/hpn/anaconda3/lib/python3.9/site-packages (from tensorflow==2.7.0) (2.11.2)\n",
      "Requirement already satisfied: keras-preprocessing>=1.1.1 in /home/hpn/anaconda3/lib/python3.9/site-packages (from tensorflow==2.7.0) (1.1.2)\n",
      "Requirement already satisfied: wheel<1.0,>=0.32.0 in /home/hpn/.local/lib/python3.9/site-packages (from tensorflow==2.7.0) (0.36.2)\n",
      "Requirement already satisfied: absl-py>=0.4.0 in /home/hpn/anaconda3/lib/python3.9/site-packages (from tensorflow==2.7.0) (1.4.0)\n",
      "Requirement already satisfied: protobuf>=3.9.2 in /home/hpn/anaconda3/lib/python3.9/site-packages (from tensorflow==2.7.0) (3.17.3)\n",
      "Requirement already satisfied: grpcio<2.0,>=1.24.3 in /home/hpn/anaconda3/lib/python3.9/site-packages (from tensorflow==2.7.0) (1.51.1)\n",
      "Requirement already satisfied: termcolor>=1.1.0 in /home/hpn/anaconda3/lib/python3.9/site-packages (from tensorflow==2.7.0) (2.2.0)\n",
      "Requirement already satisfied: wrapt>=1.11.0 in /home/hpn/anaconda3/lib/python3.9/site-packages (from tensorflow==2.7.0) (1.12.1)\n",
      "Requirement already satisfied: flatbuffers<3.0,>=1.12 in /home/hpn/anaconda3/lib/python3.9/site-packages (from tensorflow==2.7.0) (2.0.7)\n",
      "Requirement already satisfied: six>=1.12.0 in /home/hpn/anaconda3/lib/python3.9/site-packages (from tensorflow==2.7.0) (1.16.0)\n",
      "Requirement already satisfied: keras<2.8,>=2.7.0rc0 in /home/hpn/anaconda3/lib/python3.9/site-packages (from tensorflow==2.7.0) (2.7.0)\n",
      "Requirement already satisfied: google-pasta>=0.1.1 in /home/hpn/anaconda3/lib/python3.9/site-packages (from tensorflow==2.7.0) (0.2.0)\n",
      "Requirement already satisfied: astunparse>=1.6.0 in /home/hpn/anaconda3/lib/python3.9/site-packages (from tensorflow==2.7.0) (1.6.3)\n",
      "Requirement already satisfied: opt-einsum>=2.3.2 in /home/hpn/anaconda3/lib/python3.9/site-packages (from tensorflow==2.7.0) (3.3.0)\n",
      "Requirement already satisfied: tensorflow-io-gcs-filesystem>=0.21.0 in /home/hpn/anaconda3/lib/python3.9/site-packages (from tensorflow==2.7.0) (0.29.0)\n",
      "Requirement already satisfied: h5py>=2.9.0 in /home/hpn/anaconda3/lib/python3.9/site-packages (from tensorflow==2.7.0) (3.3.0)\n",
      "Requirement already satisfied: libclang>=9.0.1 in /home/hpn/anaconda3/lib/python3.9/site-packages (from tensorflow==2.7.0) (15.0.6.1)\n",
      "Requirement already satisfied: numpy>=1.14.5 in /home/hpn/anaconda3/lib/python3.9/site-packages (from tensorflow==2.7.0) (1.24.2)\n",
      "Requirement already satisfied: setuptools>=41.0.0 in /home/hpn/anaconda3/lib/python3.9/site-packages (from tensorboard~=2.6->tensorflow==2.7.0) (67.6.0)\n",
      "Requirement already satisfied: tensorboard-data-server<0.7.0,>=0.6.0 in /home/hpn/anaconda3/lib/python3.9/site-packages (from tensorboard~=2.6->tensorflow==2.7.0) (0.6.1)\n",
      "Requirement already satisfied: google-auth-oauthlib<0.5,>=0.4.1 in /home/hpn/anaconda3/lib/python3.9/site-packages (from tensorboard~=2.6->tensorflow==2.7.0) (0.4.6)\n",
      "Requirement already satisfied: markdown>=2.6.8 in /home/hpn/anaconda3/lib/python3.9/site-packages (from tensorboard~=2.6->tensorflow==2.7.0) (3.4.1)\n",
      "Requirement already satisfied: requests<3,>=2.21.0 in /home/hpn/anaconda3/lib/python3.9/site-packages (from tensorboard~=2.6->tensorflow==2.7.0) (2.26.0)\n",
      "Requirement already satisfied: tensorboard-plugin-wit>=1.6.0 in /home/hpn/anaconda3/lib/python3.9/site-packages (from tensorboard~=2.6->tensorflow==2.7.0) (1.8.1)\n",
      "Requirement already satisfied: google-auth<3,>=1.6.3 in /home/hpn/anaconda3/lib/python3.9/site-packages (from tensorboard~=2.6->tensorflow==2.7.0) (1.18.0)\n",
      "Requirement already satisfied: werkzeug>=1.0.1 in /home/hpn/anaconda3/lib/python3.9/site-packages (from tensorboard~=2.6->tensorflow==2.7.0) (2.2.3)\n",
      "Requirement already satisfied: pyasn1-modules>=0.2.1 in /home/hpn/anaconda3/lib/python3.9/site-packages (from google-auth<3,>=1.6.3->tensorboard~=2.6->tensorflow==2.7.0) (0.2.8)\n",
      "Requirement already satisfied: rsa<5,>=3.1.4 in /home/hpn/anaconda3/lib/python3.9/site-packages (from google-auth<3,>=1.6.3->tensorboard~=2.6->tensorflow==2.7.0) (4.9)\n",
      "Requirement already satisfied: cachetools<5.0,>=2.0.0 in /home/hpn/anaconda3/lib/python3.9/site-packages (from google-auth<3,>=1.6.3->tensorboard~=2.6->tensorflow==2.7.0) (4.2.4)\n",
      "Requirement already satisfied: requests-oauthlib>=0.7.0 in /home/hpn/anaconda3/lib/python3.9/site-packages (from google-auth-oauthlib<0.5,>=0.4.1->tensorboard~=2.6->tensorflow==2.7.0) (1.3.1)\n",
      "Requirement already satisfied: importlib-metadata>=4.4 in /home/hpn/anaconda3/lib/python3.9/site-packages (from markdown>=2.6.8->tensorboard~=2.6->tensorflow==2.7.0) (4.8.1)\n",
      "Requirement already satisfied: certifi>=2017.4.17 in /home/hpn/anaconda3/lib/python3.9/site-packages (from requests<3,>=2.21.0->tensorboard~=2.6->tensorflow==2.7.0) (2021.10.8)\n",
      "Requirement already satisfied: idna<4,>=2.5 in /home/hpn/anaconda3/lib/python3.9/site-packages (from requests<3,>=2.21.0->tensorboard~=2.6->tensorflow==2.7.0) (3.2)\n",
      "Requirement already satisfied: charset-normalizer~=2.0.0 in /home/hpn/anaconda3/lib/python3.9/site-packages (from requests<3,>=2.21.0->tensorboard~=2.6->tensorflow==2.7.0) (2.0.4)\n",
      "Requirement already satisfied: urllib3<1.27,>=1.21.1 in /home/hpn/anaconda3/lib/python3.9/site-packages (from requests<3,>=2.21.0->tensorboard~=2.6->tensorflow==2.7.0) (1.26.7)\n",
      "Requirement already satisfied: MarkupSafe>=2.1.1 in /home/hpn/anaconda3/lib/python3.9/site-packages (from werkzeug>=1.0.1->tensorboard~=2.6->tensorflow==2.7.0) (2.1.2)\n",
      "Requirement already satisfied: zipp>=0.5 in /home/hpn/anaconda3/lib/python3.9/site-packages (from importlib-metadata>=4.4->markdown>=2.6.8->tensorboard~=2.6->tensorflow==2.7.0) (3.6.0)\n",
      "Requirement already satisfied: pyasn1<0.5.0,>=0.4.6 in /home/hpn/anaconda3/lib/python3.9/site-packages (from pyasn1-modules>=0.2.1->google-auth<3,>=1.6.3->tensorboard~=2.6->tensorflow==2.7.0) (0.4.8)\n",
      "Requirement already satisfied: oauthlib>=3.0.0 in /home/hpn/anaconda3/lib/python3.9/site-packages (from requests-oauthlib>=0.7.0->google-auth-oauthlib<0.5,>=0.4.1->tensorboard~=2.6->tensorflow==2.7.0) (3.2.2)\n",
      "\n",
      "\u001b[1m[\u001b[0m\u001b[34;49mnotice\u001b[0m\u001b[1;39;49m]\u001b[0m\u001b[39;49m A new release of pip is available: \u001b[0m\u001b[31;49m23.0.1\u001b[0m\u001b[39;49m -> \u001b[0m\u001b[32;49m23.3.1\u001b[0m\n",
      "\u001b[1m[\u001b[0m\u001b[34;49mnotice\u001b[0m\u001b[1;39;49m]\u001b[0m\u001b[39;49m To update, run: \u001b[0m\u001b[32;49mpip install --upgrade pip\u001b[0m\n"
     ]
    }
   ],
   "source": [
    "!pip install tensorflow==2.7.0"
   ]
  },
  {
   "cell_type": "code",
   "execution_count": 28,
   "metadata": {},
   "outputs": [
    {
     "name": "stdout",
     "output_type": "stream",
     "text": [
      "Requirement already satisfied: tensorflow-quantum==0.7.2 in /home/hpn/anaconda3/lib/python3.9/site-packages (0.7.2)\n",
      "Requirement already satisfied: protobuf==3.17.3 in /home/hpn/anaconda3/lib/python3.9/site-packages (from tensorflow-quantum==0.7.2) (3.17.3)\n",
      "Requirement already satisfied: cirq-google>=0.13.1 in /home/hpn/anaconda3/lib/python3.9/site-packages (from tensorflow-quantum==0.7.2) (0.13.1)\n",
      "Requirement already satisfied: google-api-core==1.21.0 in /home/hpn/anaconda3/lib/python3.9/site-packages (from tensorflow-quantum==0.7.2) (1.21.0)\n",
      "Requirement already satisfied: cirq-core==0.13.1 in /home/hpn/anaconda3/lib/python3.9/site-packages (from tensorflow-quantum==0.7.2) (0.13.1)\n",
      "Requirement already satisfied: googleapis-common-protos==1.52.0 in /home/hpn/anaconda3/lib/python3.9/site-packages (from tensorflow-quantum==0.7.2) (1.52.0)\n",
      "Requirement already satisfied: google-auth==1.18.0 in /home/hpn/anaconda3/lib/python3.9/site-packages (from tensorflow-quantum==0.7.2) (1.18.0)\n",
      "Requirement already satisfied: sympy==1.8 in /home/hpn/anaconda3/lib/python3.9/site-packages (from tensorflow-quantum==0.7.2) (1.8)\n",
      "Requirement already satisfied: matplotlib~=3.0 in /home/hpn/anaconda3/lib/python3.9/site-packages (from cirq-core==0.13.1->tensorflow-quantum==0.7.2) (3.4.3)\n",
      "Requirement already satisfied: duet~=0.2.0 in /home/hpn/anaconda3/lib/python3.9/site-packages (from cirq-core==0.13.1->tensorflow-quantum==0.7.2) (0.2.9)\n",
      "Requirement already satisfied: pandas in /home/hpn/anaconda3/lib/python3.9/site-packages (from cirq-core==0.13.1->tensorflow-quantum==0.7.2) (1.5.3)\n",
      "Requirement already satisfied: scipy in /home/hpn/anaconda3/lib/python3.9/site-packages (from cirq-core==0.13.1->tensorflow-quantum==0.7.2) (1.10.1)\n",
      "Requirement already satisfied: typing-extensions in /home/hpn/anaconda3/lib/python3.9/site-packages (from cirq-core==0.13.1->tensorflow-quantum==0.7.2) (4.5.0)\n",
      "Requirement already satisfied: networkx~=2.4 in /home/hpn/anaconda3/lib/python3.9/site-packages (from cirq-core==0.13.1->tensorflow-quantum==0.7.2) (2.6.3)\n",
      "Requirement already satisfied: sortedcontainers~=2.0 in /home/hpn/anaconda3/lib/python3.9/site-packages (from cirq-core==0.13.1->tensorflow-quantum==0.7.2) (2.4.0)\n",
      "Requirement already satisfied: tqdm in /home/hpn/anaconda3/lib/python3.9/site-packages (from cirq-core==0.13.1->tensorflow-quantum==0.7.2) (4.62.3)\n",
      "Requirement already satisfied: numpy~=1.16 in /home/hpn/anaconda3/lib/python3.9/site-packages (from cirq-core==0.13.1->tensorflow-quantum==0.7.2) (1.24.2)\n",
      "Requirement already satisfied: requests<3.0.0dev,>=2.18.0 in /home/hpn/anaconda3/lib/python3.9/site-packages (from google-api-core==1.21.0->tensorflow-quantum==0.7.2) (2.26.0)\n",
      "Requirement already satisfied: setuptools>=34.0.0 in /home/hpn/anaconda3/lib/python3.9/site-packages (from google-api-core==1.21.0->tensorflow-quantum==0.7.2) (67.6.0)\n",
      "Requirement already satisfied: six>=1.10.0 in /home/hpn/anaconda3/lib/python3.9/site-packages (from google-api-core==1.21.0->tensorflow-quantum==0.7.2) (1.16.0)\n",
      "Requirement already satisfied: pytz in /home/hpn/.local/lib/python3.9/site-packages (from google-api-core==1.21.0->tensorflow-quantum==0.7.2) (2021.1)\n",
      "Requirement already satisfied: rsa<5,>=3.1.4 in /home/hpn/anaconda3/lib/python3.9/site-packages (from google-auth==1.18.0->tensorflow-quantum==0.7.2) (4.9)\n",
      "Requirement already satisfied: cachetools<5.0,>=2.0.0 in /home/hpn/anaconda3/lib/python3.9/site-packages (from google-auth==1.18.0->tensorflow-quantum==0.7.2) (4.2.4)\n",
      "Requirement already satisfied: pyasn1-modules>=0.2.1 in /home/hpn/anaconda3/lib/python3.9/site-packages (from google-auth==1.18.0->tensorflow-quantum==0.7.2) (0.2.8)\n",
      "Requirement already satisfied: mpmath>=0.19 in /home/hpn/anaconda3/lib/python3.9/site-packages (from sympy==1.8->tensorflow-quantum==0.7.2) (1.2.1)\n",
      "Requirement already satisfied: grpcio<2.0dev,>=1.29.0 in /home/hpn/anaconda3/lib/python3.9/site-packages (from google-api-core==1.21.0->tensorflow-quantum==0.7.2) (1.51.1)\n",
      "Requirement already satisfied: python-dateutil>=2.7 in /home/hpn/anaconda3/lib/python3.9/site-packages (from matplotlib~=3.0->cirq-core==0.13.1->tensorflow-quantum==0.7.2) (2.8.2)\n",
      "Requirement already satisfied: pillow>=6.2.0 in /home/hpn/anaconda3/lib/python3.9/site-packages (from matplotlib~=3.0->cirq-core==0.13.1->tensorflow-quantum==0.7.2) (8.4.0)\n",
      "Requirement already satisfied: pyparsing>=2.2.1 in /home/hpn/anaconda3/lib/python3.9/site-packages (from matplotlib~=3.0->cirq-core==0.13.1->tensorflow-quantum==0.7.2) (3.0.4)\n",
      "Requirement already satisfied: kiwisolver>=1.0.1 in /home/hpn/.local/lib/python3.9/site-packages (from matplotlib~=3.0->cirq-core==0.13.1->tensorflow-quantum==0.7.2) (1.3.1)\n",
      "Requirement already satisfied: cycler>=0.10 in /home/hpn/.local/lib/python3.9/site-packages (from matplotlib~=3.0->cirq-core==0.13.1->tensorflow-quantum==0.7.2) (0.10.0)\n",
      "Requirement already satisfied: pyasn1<0.5.0,>=0.4.6 in /home/hpn/anaconda3/lib/python3.9/site-packages (from pyasn1-modules>=0.2.1->google-auth==1.18.0->tensorflow-quantum==0.7.2) (0.4.8)\n",
      "Requirement already satisfied: charset-normalizer~=2.0.0 in /home/hpn/anaconda3/lib/python3.9/site-packages (from requests<3.0.0dev,>=2.18.0->google-api-core==1.21.0->tensorflow-quantum==0.7.2) (2.0.4)\n",
      "Requirement already satisfied: certifi>=2017.4.17 in /home/hpn/anaconda3/lib/python3.9/site-packages (from requests<3.0.0dev,>=2.18.0->google-api-core==1.21.0->tensorflow-quantum==0.7.2) (2021.10.8)\n",
      "Requirement already satisfied: idna<4,>=2.5 in /home/hpn/anaconda3/lib/python3.9/site-packages (from requests<3.0.0dev,>=2.18.0->google-api-core==1.21.0->tensorflow-quantum==0.7.2) (3.2)\n",
      "Requirement already satisfied: urllib3<1.27,>=1.21.1 in /home/hpn/anaconda3/lib/python3.9/site-packages (from requests<3.0.0dev,>=2.18.0->google-api-core==1.21.0->tensorflow-quantum==0.7.2) (1.26.7)\n",
      "\n",
      "\u001b[1m[\u001b[0m\u001b[34;49mnotice\u001b[0m\u001b[1;39;49m]\u001b[0m\u001b[39;49m A new release of pip is available: \u001b[0m\u001b[31;49m23.0.1\u001b[0m\u001b[39;49m -> \u001b[0m\u001b[32;49m23.3.1\u001b[0m\n",
      "\u001b[1m[\u001b[0m\u001b[34;49mnotice\u001b[0m\u001b[1;39;49m]\u001b[0m\u001b[39;49m To update, run: \u001b[0m\u001b[32;49mpip install --upgrade pip\u001b[0m\n"
     ]
    }
   ],
   "source": [
    "!pip install tensorflow-quantum==0.7.2"
   ]
  },
  {
   "cell_type": "code",
   "execution_count": 29,
   "metadata": {},
   "outputs": [
    {
     "data": {
      "text/plain": [
       "<module 'pkg_resources' from '/home/hpn/anaconda3/lib/python3.9/site-packages/pkg_resources/__init__.py'>"
      ]
     },
     "execution_count": 29,
     "metadata": {},
     "output_type": "execute_result"
    }
   ],
   "source": [
    "# Update package resources to account for version changes.\n",
    "import importlib, pkg_resources\n",
    "importlib.reload(pkg_resources)"
   ]
  },
  {
   "cell_type": "markdown",
   "metadata": {},
   "source": [
    "Import tensorflow and the module dependencies:"
   ]
  },
  {
   "cell_type": "code",
   "execution_count": 30,
   "metadata": {},
   "outputs": [],
   "source": [
    "import tensorflow as tf\n",
    "import tensorflow_quantum as tfq\n",
    "\n",
    "import cirq\n",
    "import sympy\n",
    "import numpy as np\n",
    "\n",
    "from tqdm import trange\n",
    "import pickle"
   ]
  },
  {
   "cell_type": "markdown",
   "metadata": {},
   "source": [
    "# Results"
   ]
  },
  {
   "cell_type": "code",
   "execution_count": 31,
   "metadata": {},
   "outputs": [],
   "source": [
    "%autoreload 2"
   ]
  },
  {
   "cell_type": "markdown",
   "metadata": {},
   "source": [
    "We create three different stilted dataset from fashion MNIST through three CQCA-based quantum models and attempt to learn each with the other.\n",
    "In the following we illustrate the models."
   ]
  },
  {
   "cell_type": "code",
   "execution_count": 32,
   "metadata": {},
   "outputs": [
    {
     "name": "stdout",
     "output_type": "stream",
     "text": [
      "(0, 0): ───Rz(theta0)───@───────────@───H───Rz(theta4)───@───────────@───H───Rz(theta8)────@───────────@───H───Rz(theta12)───@───────────@───H───\n",
      "                        │           │                    │           │                     │           │                     │           │\n",
      "(0, 1): ───Rz(theta1)───@───@───────┼───H───Rz(theta5)───@───@───────┼───H───Rz(theta9)────@───@───────┼───H───Rz(theta13)───@───@───────┼───H───\n",
      "                            │       │                        │       │                         │       │                         │       │\n",
      "(0, 2): ───Rz(theta2)───────@───@───┼───H───Rz(theta6)───────@───@───┼───H───Rz(theta10)───────@───@───┼───H───Rz(theta14)───────@───@───┼───H───\n",
      "                                │   │                            │   │                             │   │                             │   │\n",
      "(0, 3): ───Rz(theta3)───────────@───@───H───Rz(theta7)───────────@───@───H───Rz(theta11)───────────@───@───H───Rz(theta15)───────────@───@───H───\n",
      "\n",
      "\n",
      "(0, 0): ───Rz(theta0)───H───S───H───S───@───────────@───Rz(theta4)───H───S───H───S───@───────────@───Rz(theta8)────H───S───H───S───@───────────@───Rz(theta12)───H───S───H───S───@───────────@───\n",
      "                                        │           │                                │           │                                 │           │                                 │           │\n",
      "(0, 1): ───Rz(theta1)───H───S───H───S───@───@───────┼───Rz(theta5)───H───S───H───S───@───@───────┼───Rz(theta9)────H───S───H───S───@───@───────┼───Rz(theta13)───H───S───H───S───@───@───────┼───\n",
      "                                            │       │                                    │       │                                     │       │                                     │       │\n",
      "(0, 2): ───Rz(theta2)───H───S───H───S───────@───@───┼───Rz(theta6)───H───S───H───S───────@───@───┼───Rz(theta10)───H───S───H───S───────@───@───┼───Rz(theta14)───H───S───H───S───────@───@───┼───\n",
      "                                                │   │                                        │   │                                         │   │                                         │   │\n",
      "(0, 3): ───Rz(theta3)───H───S───H───S───────────@───@───Rz(theta7)───H───S───H───S───────────@───@───Rz(theta11)───H───S───H───S───────────@───@───Rz(theta15)───H───S───H───S───────────@───@───\n",
      "\n",
      "(0, 0): ───Rz(theta0)───@───────────@───H───Rz(theta4)───H───Rz(theta8)────@───────────@───H───Rz(theta12)───H───\n",
      "                        │           │                                      │           │\n",
      "(0, 1): ───Rz(theta1)───@───@───────┼───H───Rz(theta5)───H───Rz(theta9)────@───@───────┼───H───Rz(theta13)───H───\n",
      "                            │       │                                          │       │\n",
      "(0, 2): ───Rz(theta2)───────@───@───┼───H───Rz(theta6)───H───Rz(theta10)───────@───@───┼───H───Rz(theta14)───H───\n",
      "                                │   │                                              │   │\n",
      "(0, 3): ───Rz(theta3)───────────@───@───H───Rz(theta7)───H───Rz(theta11)───────────@───@───H───Rz(theta15)───H───\n",
      "\n",
      "\n"
     ]
    }
   ],
   "source": [
    "from model.pqca import PQCACirc\n",
    "\n",
    "# Global params\n",
    "NUM_QUBITS = 4\n",
    "QUBITS = cirq.GridQubit.rect(1, NUM_QUBITS)\n",
    "OBSERVABLES = [cirq.Z(QUBITS[0])]\n",
    "NUM_LAYERS_ENC = 1\n",
    "\n",
    "# Model C params \n",
    "NUM_LAYERS_VAR_C = 4\n",
    "SINGLE_PARAM_C = False\n",
    "CQCA_C = [[\"CZ1\", \"H\"]]\n",
    "\n",
    "variational_c = PQCACirc(QUBITS, NUM_LAYERS_VAR_C, CQCA_C, OBSERVABLES, SINGLE_PARAM_C)\n",
    "print(variational_c.circuit)\n",
    "print()\n",
    "print()\n",
    "\n",
    "# Model CF params\n",
    "NUM_LAYERS_VAR_CF = 4\n",
    "SINGLE_PARAM_CF = False\n",
    "CQCA_CF = [[\"H\", \"S\", \"H\", \"S\", \"CZ1\"]] #[[\"CZ1\", \"S\", \"H\", \"S\", \"H\"]]\n",
    "\n",
    "variational_cf = PQCACirc(QUBITS, NUM_LAYERS_VAR_CF, CQCA_CF, OBSERVABLES, SINGLE_PARAM_CF)\n",
    "print(variational_cf.circuit)\n",
    "print()\n",
    "\n",
    "# Model CP params\n",
    "NUM_LAYERS_VAR_CP = 4\n",
    "SINGLE_PARAM_CP = False\n",
    "CQCA_CP = [[\"CZ1\", \"H\"], [\"H\"]]\n",
    "\n",
    "variational_c = PQCACirc(QUBITS, NUM_LAYERS_VAR_CP, CQCA_CP, OBSERVABLES, SINGLE_PARAM_CP)\n",
    "print(variational_c.circuit)\n",
    "print()\n",
    "print()\n"
   ]
  },
  {
   "cell_type": "markdown",
   "metadata": {},
   "source": [
    "## Training"
   ]
  },
  {
   "cell_type": "markdown",
   "metadata": {},
   "source": [
    "We define a function that creates a dataset given a target model and trains a learning model on that dataset. Then it saves both models in approrpirate files."
   ]
  },
  {
   "cell_type": "code",
   "execution_count": 33,
   "metadata": {},
   "outputs": [],
   "source": [
    "def train_save_model(model_train, model_data, num_steps, num_train, num_test, norm, path, path_data):\n",
    "    \"\"\"\n",
    "    Generates a stilted dataset from a given model, then trains a given other\n",
    "    model on the dataset. Results and data are saved.\n",
    "    \n",
    "    Args:\n",
    "        model_train (PQCAModel): The training model.\n",
    "        model_data (DataFMNISTModel): The data generating model.\n",
    "        num_steps (int): The number of training steps.\n",
    "        num_train (int): The size of the training data.\n",
    "        num_test (int): The size of the test and validation data.\n",
    "        norm (bool): Whether or not the output should be normalized by the std.\n",
    "        path (str): Where to save the training model data.\n",
    "        path_data (str): Where to save the data generating model data.\n",
    "    \"\"\"\n",
    "    # generate data\n",
    "    x_train, y_train, x_test, y_test, x_test2, y_test2, x_train_save, _ , _ = model_data.create_fMNIST(num_train, num_test, norm)\n",
    "    \n",
    "    # training\n",
    "    tr = trange(num_steps)\n",
    "    for step in tr:\n",
    "        # calculate loss and validation loss in a training step\n",
    "        # data is automatically appended\n",
    "        l, val = model_train.step(x_train, y_train, x_test, y_test)\n",
    "        # calculate test loss (not from training)\n",
    "        test = tf.keras.losses.MeanSquaredError()(model_train.model(x_test2), y_test2).numpy()\n",
    "\n",
    "        # append test data\n",
    "        model_train.test_history += [test]\n",
    "\n",
    "        # Print metrics every 10 epochs\n",
    "        if(step % 10 == 0):\n",
    "            tr.set_postfix({ \"training loss\": round(l,8), \"validation loss\": round(val,8), \"test loss\": round(test,8)})\n",
    "\n",
    "        # if val<10**(-5):\n",
    "        #     break\n",
    "\n",
    "    model_train.pickle_model(path)\n",
    "    model_data.pickle_model(path_data)"
   ]
  },
  {
   "cell_type": "markdown",
   "metadata": {},
   "source": [
    "Load appropriate models and specify parameters."
   ]
  },
  {
   "cell_type": "code",
   "execution_count": 34,
   "metadata": {},
   "outputs": [],
   "source": [
    "from model.pqca import PQCAModel\n",
    "from examples.data_model import DataFMNISTModel\n",
    "\n",
    "# Data params\n",
    "TRAIN= False\n",
    "NUM_TRAIN = 500\n",
    "NUM_TEST = 100\n",
    "NORM = True\n",
    "\n",
    "# Training params\n",
    "NUM_STEPS = 300\n",
    "NUM_MODELS = 10\n",
    "START_MODEL = 0\n",
    "LR_VAR = 0.01\n",
    "LR_OUT = 0.1"
   ]
  },
  {
   "cell_type": "markdown",
   "metadata": {},
   "source": [
    "### Cluster CQCA as target"
   ]
  },
  {
   "cell_type": "markdown",
   "metadata": {},
   "source": [
    "**Target:** Cluster CQCA\n",
    "\n",
    "**Learning Model:** Cluster CQCA"
   ]
  },
  {
   "cell_type": "code",
   "execution_count": 11,
   "metadata": {},
   "outputs": [
    {
     "name": "stderr",
     "output_type": "stream",
     "text": [
      "100%|██████████| 300/300 [03:06<00:00,  1.61it/s, training loss=0.0152, validation loss=0.0139, test loss=0.0144]\n",
      "100%|██████████| 300/300 [03:00<00:00,  1.67it/s, training loss=5e-8, validation loss=4e-8, test loss=5e-8]            \n",
      "100%|██████████| 300/300 [03:02<00:00,  1.64it/s, training loss=0.0327, validation loss=0.0333, test loss=0.0307]\n",
      "100%|██████████| 300/300 [02:44<00:00,  1.82it/s, training loss=1.57e-5, validation loss=2.04e-5, test loss=2.15e-5]   \n",
      "100%|██████████| 300/300 [02:00<00:00,  2.50it/s, training loss=0.0497, validation loss=0.0689, test loss=0.063] \n",
      "100%|██████████| 300/300 [01:59<00:00,  2.50it/s, training loss=0.208, validation loss=0.219, test loss=0.224]\n",
      "100%|██████████| 300/300 [01:59<00:00,  2.50it/s, training loss=6e-8, validation loss=7e-8, test loss=7e-8]            \n",
      "100%|██████████| 300/300 [01:59<00:00,  2.50it/s, training loss=6e-8, validation loss=5e-8, test loss=6e-8]            \n",
      "100%|██████████| 300/300 [01:59<00:00,  2.50it/s, training loss=0.000832, validation loss=0.000739, test loss=0.000836]\n",
      "100%|██████████| 300/300 [02:00<00:00,  2.50it/s, training loss=8.9e-5, validation loss=9.25e-5, test loss=0.000104]   \n"
     ]
    }
   ],
   "source": [
    "# target: cluster CQCA\n",
    "# learning model: cluster CQCA\n",
    "for m in range(START_MODEL, NUM_MODELS):\n",
    "    # Define model for data generation - cluster CQCA\n",
    "    model_data = DataFMNISTModel(QUBITS, \n",
    "                                 NUM_LAYERS_ENC, \n",
    "                                 NUM_LAYERS_VAR_C, \n",
    "                                 CQCA_C, \n",
    "                                 OBSERVABLES, \n",
    "                                 False, \n",
    "                                 SINGLE_PARAM_C)\n",
    "    # Define model - cluster CQCA\n",
    "    model_train = PQCAModel(QUBITS, \n",
    "                            NUM_LAYERS_ENC, \n",
    "                            NUM_LAYERS_VAR_C, \n",
    "                            CQCA_C, \n",
    "                            OBSERVABLES, \n",
    "                            True, \n",
    "                            SINGLE_PARAM_C,\n",
    "                            lr_var=LR_VAR,\n",
    "                            lr_out=LR_OUT)\n",
    "\n",
    "    \n",
    "    path_data = \"./results/data_c_learns_c_\"+str(m)+\".pckl\"\n",
    "    path = \"./results/results_c_learns_c_\"+str(m)+\".pckl\"\n",
    "\n",
    "    # run training an save\n",
    "    train_save_model(model_train, \n",
    "                     model_data, \n",
    "                     NUM_STEPS, \n",
    "                     NUM_TRAIN, \n",
    "                     NUM_TEST, \n",
    "                     NORM, \n",
    "                     path, \n",
    "                     path_data)"
   ]
  },
  {
   "cell_type": "markdown",
   "metadata": {},
   "source": [
    "**Target:** Cluster CQCA\n",
    "\n",
    "**Learning Model:** Fractal cluster CQCA"
   ]
  },
  {
   "cell_type": "code",
   "execution_count": 12,
   "metadata": {},
   "outputs": [
    {
     "name": "stderr",
     "output_type": "stream",
     "text": [
      "100%|██████████| 300/300 [03:33<00:00,  1.40it/s, training loss=0.109, validation loss=0.119, test loss=0.124]\n",
      "100%|██████████| 300/300 [03:34<00:00,  1.40it/s, training loss=0.275, validation loss=0.362, test loss=0.238]\n",
      "100%|██████████| 300/300 [03:34<00:00,  1.40it/s, training loss=0.0743, validation loss=0.0794, test loss=0.0758]\n",
      "100%|██████████| 300/300 [03:34<00:00,  1.40it/s, training loss=0.351, validation loss=0.362, test loss=0.375]\n",
      "100%|██████████| 300/300 [03:34<00:00,  1.40it/s, training loss=0.29, validation loss=0.413, test loss=0.28]  \n",
      "100%|██████████| 300/300 [03:34<00:00,  1.40it/s, training loss=0.654, validation loss=0.891, test loss=0.669]\n",
      "100%|██████████| 300/300 [03:34<00:00,  1.40it/s, training loss=0.491, validation loss=0.725, test loss=0.657]\n",
      "100%|██████████| 300/300 [03:34<00:00,  1.40it/s, training loss=0.386, validation loss=0.405, test loss=0.251]\n",
      "100%|██████████| 300/300 [03:34<00:00,  1.40it/s, training loss=0.24, validation loss=0.281, test loss=0.221] \n",
      "100%|██████████| 300/300 [03:34<00:00,  1.40it/s, training loss=0.85, validation loss=0.8, test loss=0.637]   \n"
     ]
    }
   ],
   "source": [
    "# target: cluster CQCA\n",
    "# learning model: fractal cluster CQCA\n",
    "for m in range(START_MODEL, NUM_MODELS):\n",
    "    # Define model for data generation - cluster CQCA\n",
    "    model_data = DataFMNISTModel(QUBITS, \n",
    "                                 NUM_LAYERS_ENC, \n",
    "                                 NUM_LAYERS_VAR_C, \n",
    "                                 CQCA_C, \n",
    "                                 OBSERVABLES, \n",
    "                                 False, \n",
    "                                 SINGLE_PARAM_C)\n",
    "    # Define model - fractal cluster CQCA\n",
    "    model_train = PQCAModel(QUBITS, \n",
    "                            NUM_LAYERS_ENC, \n",
    "                            NUM_LAYERS_VAR_CF, \n",
    "                            CQCA_CF, \n",
    "                            OBSERVABLES, \n",
    "                            True, \n",
    "                            SINGLE_PARAM_CF)\n",
    "    \n",
    "    path_data = \"./results/data_cf_learns_c_\"+str(m)+\".pckl\"\n",
    "    path = \"./results/results_cf_learns_c_\"+str(m)+\".pckl\"\n",
    "\n",
    "    # run training an save\n",
    "    train_save_model(model_train, \n",
    "                     model_data, \n",
    "                     NUM_STEPS, \n",
    "                     NUM_TRAIN, \n",
    "                     NUM_TEST, \n",
    "                     NORM, \n",
    "                     path, \n",
    "                     path_data)"
   ]
  },
  {
   "cell_type": "markdown",
   "metadata": {},
   "source": [
    "**Target:** Cluster CQCA\n",
    "\n",
    "**Learning Model:** Periodic cluster CQCA"
   ]
  },
  {
   "cell_type": "code",
   "execution_count": 13,
   "metadata": {},
   "outputs": [
    {
     "name": "stderr",
     "output_type": "stream",
     "text": [
      "  0%|          | 1/300 [00:00<01:47,  2.77it/s, training loss=0.998, validation loss=0.868, test loss=1.09]"
     ]
    },
    {
     "name": "stderr",
     "output_type": "stream",
     "text": [
      "100%|██████████| 300/300 [01:46<00:00,  2.82it/s, training loss=0.273, validation loss=0.236, test loss=0.338]\n",
      "100%|██████████| 300/300 [01:46<00:00,  2.82it/s, training loss=0.662, validation loss=0.697, test loss=0.619]\n",
      "100%|██████████| 300/300 [01:46<00:00,  2.82it/s, training loss=0.81, validation loss=1.22, test loss=0.775] \n",
      "100%|██████████| 300/300 [01:46<00:00,  2.82it/s, training loss=0.782, validation loss=0.798, test loss=0.679]\n",
      "100%|██████████| 300/300 [01:46<00:00,  2.82it/s, training loss=0.587, validation loss=0.736, test loss=0.532]\n",
      "100%|██████████| 300/300 [01:46<00:00,  2.82it/s, training loss=0.607, validation loss=0.593, test loss=0.635]\n",
      "100%|██████████| 300/300 [01:46<00:00,  2.82it/s, training loss=0.384, validation loss=0.342, test loss=0.439]\n",
      "100%|██████████| 300/300 [01:46<00:00,  2.82it/s, training loss=1, validation loss=1, test loss=0.94]        \n",
      "100%|██████████| 300/300 [01:46<00:00,  2.82it/s, training loss=0.567, validation loss=0.713, test loss=0.615]\n",
      "100%|██████████| 300/300 [01:46<00:00,  2.82it/s, training loss=0.092, validation loss=0.109, test loss=0.0806] \n"
     ]
    }
   ],
   "source": [
    "# target: cluster CQCA\n",
    "# learning model: periodic cluster CQCA\n",
    "for m in range(START_MODEL, NUM_MODELS):\n",
    "    # Define model for data generation - cluster CQCA\n",
    "    model_data = DataFMNISTModel(QUBITS, \n",
    "                                 NUM_LAYERS_ENC, \n",
    "                                 NUM_LAYERS_VAR_C, \n",
    "                                 CQCA_C, \n",
    "                                 OBSERVABLES, \n",
    "                                 False, \n",
    "                                 SINGLE_PARAM_C)\n",
    "    # Define model - fractal cluster CQCA\n",
    "    model_train = PQCAModel(QUBITS, \n",
    "                            NUM_LAYERS_ENC, \n",
    "                            NUM_LAYERS_VAR_CP, \n",
    "                            CQCA_CP, \n",
    "                            OBSERVABLES, \n",
    "                            True, \n",
    "                            SINGLE_PARAM_CP)\n",
    "    \n",
    "    path_data = \"./results/data_cp_learns_c_\"+str(m)+\".pckl\"\n",
    "    path = \"./results/results_cp_learns_c_\"+str(m)+\".pckl\"\n",
    "\n",
    "    # run training an save\n",
    "    train_save_model(model_train, \n",
    "                     model_data, \n",
    "                     NUM_STEPS, \n",
    "                     NUM_TRAIN, \n",
    "                     NUM_TEST, \n",
    "                     NORM, \n",
    "                     path, \n",
    "                     path_data)"
   ]
  },
  {
   "cell_type": "markdown",
   "metadata": {},
   "source": [
    "### Fractal Cluster CQCA as target"
   ]
  },
  {
   "cell_type": "markdown",
   "metadata": {},
   "source": [
    "**Target:** Fractal cluster CQCA\n",
    "\n",
    "**Learning Model:** Cluster CQCA"
   ]
  },
  {
   "cell_type": "code",
   "execution_count": 14,
   "metadata": {},
   "outputs": [
    {
     "name": "stderr",
     "output_type": "stream",
     "text": [
      "100%|██████████| 300/300 [02:00<00:00,  2.49it/s, training loss=0.526, validation loss=0.701, test loss=0.589]\n",
      "100%|██████████| 300/300 [02:00<00:00,  2.50it/s, training loss=0.725, validation loss=0.82, test loss=1.02]  \n",
      "100%|██████████| 300/300 [02:00<00:00,  2.49it/s, training loss=0.576, validation loss=0.704, test loss=0.693]\n",
      "100%|██████████| 300/300 [02:00<00:00,  2.50it/s, training loss=0.349, validation loss=0.334, test loss=0.3]  \n",
      "100%|██████████| 300/300 [02:00<00:00,  2.50it/s, training loss=0.35, validation loss=0.417, test loss=0.45]  \n",
      "100%|██████████| 300/300 [02:00<00:00,  2.50it/s, training loss=0.0623, validation loss=0.0819, test loss=0.0704]\n",
      "100%|██████████| 300/300 [02:00<00:00,  2.50it/s, training loss=0.636, validation loss=0.709, test loss=0.688]\n",
      "100%|██████████| 300/300 [02:00<00:00,  2.50it/s, training loss=0.72, validation loss=0.843, test loss=0.662] \n",
      "100%|██████████| 300/300 [02:00<00:00,  2.49it/s, training loss=0.177, validation loss=0.177, test loss=0.21] \n",
      "100%|██████████| 300/300 [02:00<00:00,  2.49it/s, training loss=0.155, validation loss=0.15, test loss=0.176] \n"
     ]
    }
   ],
   "source": [
    "# target: fractal cluster CQCA\n",
    "# learning model: cluster CQCA\n",
    "for m in range(START_MODEL, NUM_MODELS):\n",
    "    # Define model for data generation - fractal cluster CQCA\n",
    "    model_data = DataFMNISTModel(QUBITS, \n",
    "                                 NUM_LAYERS_ENC, \n",
    "                                 NUM_LAYERS_VAR_CF, \n",
    "                                 CQCA_CF, \n",
    "                                 OBSERVABLES, \n",
    "                                 False, \n",
    "                                 SINGLE_PARAM_CF)\n",
    "    # Define model - cluster CQCA\n",
    "    model_train = PQCAModel(QUBITS, \n",
    "                            NUM_LAYERS_ENC, \n",
    "                            NUM_LAYERS_VAR_C, \n",
    "                            CQCA_C, \n",
    "                            OBSERVABLES, \n",
    "                            True, \n",
    "                            SINGLE_PARAM_C)\n",
    "    \n",
    "    path_data = \"./results/data_c_learns_cf_\"+str(m)+\".pckl\"\n",
    "    path = \"./results/results_c_learns_cf_\"+str(m)+\".pckl\"\n",
    "\n",
    "    # run training an save\n",
    "    train_save_model(model_train, \n",
    "                     model_data, \n",
    "                     NUM_STEPS, \n",
    "                     NUM_TRAIN, \n",
    "                     NUM_TEST, \n",
    "                     NORM, \n",
    "                     path, \n",
    "                     path_data)"
   ]
  },
  {
   "cell_type": "markdown",
   "metadata": {},
   "source": [
    "**Target:** Fractal cluster CQCA\n",
    "\n",
    "**Learning Model:** Fractal cluster CQCA"
   ]
  },
  {
   "cell_type": "code",
   "execution_count": 15,
   "metadata": {},
   "outputs": [
    {
     "name": "stderr",
     "output_type": "stream",
     "text": [
      "  0%|          | 0/300 [00:00<?, ?it/s]"
     ]
    },
    {
     "name": "stderr",
     "output_type": "stream",
     "text": [
      "100%|██████████| 300/300 [03:34<00:00,  1.40it/s, training loss=0.0359, validation loss=0.0401, test loss=0.0369]\n",
      "100%|██████████| 300/300 [03:33<00:00,  1.40it/s, training loss=1.95e-6, validation loss=2.03e-6, test loss=1.96e-6]   \n",
      "100%|██████████| 300/300 [03:34<00:00,  1.40it/s, training loss=0.439, validation loss=0.656, test loss=0.676]\n",
      "100%|██████████| 300/300 [03:34<00:00,  1.40it/s, training loss=0.172, validation loss=0.177, test loss=0.209]\n",
      "100%|██████████| 300/300 [03:34<00:00,  1.40it/s, training loss=0.142, validation loss=0.124, test loss=0.118]\n",
      "100%|██████████| 300/300 [03:34<00:00,  1.40it/s, training loss=5e-8, validation loss=7e-8, test loss=4e-8]            \n",
      "100%|██████████| 300/300 [03:34<00:00,  1.40it/s, training loss=0.187, validation loss=0.197, test loss=0.17] \n",
      "100%|██████████| 300/300 [03:34<00:00,  1.40it/s, training loss=0.000785, validation loss=0.000807, test loss=0.00103]\n",
      "100%|██████████| 300/300 [03:34<00:00,  1.40it/s, training loss=3e-8, validation loss=3e-8, test loss=3e-8]            \n",
      "100%|██████████| 300/300 [03:34<00:00,  1.40it/s, training loss=0.726, validation loss=1.18, test loss=0.896]\n"
     ]
    }
   ],
   "source": [
    "# target: fractal cluster CQCA\n",
    "# learning model: fractal cluster CQCA\n",
    "for m in range(START_MODEL, NUM_MODELS):\n",
    "    # Define model for data generation - fractal cluster CQCA\n",
    "    model_data = DataFMNISTModel(QUBITS, \n",
    "                                 NUM_LAYERS_ENC, \n",
    "                                 NUM_LAYERS_VAR_CF, \n",
    "                                 CQCA_CF, \n",
    "                                 OBSERVABLES, \n",
    "                                 False, \n",
    "                                 SINGLE_PARAM_CF)\n",
    "    # Define model - fractal cluster CQCA\n",
    "    model_train = PQCAModel(QUBITS, \n",
    "                            NUM_LAYERS_ENC, \n",
    "                            NUM_LAYERS_VAR_CF, \n",
    "                            CQCA_CF, \n",
    "                            OBSERVABLES, \n",
    "                            True, \n",
    "                            SINGLE_PARAM_CF)\n",
    "    \n",
    "    path_data = \"./results/data_cf_learns_cf_\"+str(m)+\".pckl\"\n",
    "    path = \"./results/results_cf_learns_cf_\"+str(m)+\".pckl\"\n",
    "\n",
    "    # run training an save\n",
    "    train_save_model(model_train, \n",
    "                     model_data, \n",
    "                     NUM_STEPS, \n",
    "                     NUM_TRAIN, \n",
    "                     NUM_TEST, \n",
    "                     NORM, \n",
    "                     path, \n",
    "                     path_data)"
   ]
  },
  {
   "cell_type": "markdown",
   "metadata": {},
   "source": [
    "**Target:** Fractal cluster CQCA\n",
    "\n",
    "**Learning Model:** Periodic cluster CQCA"
   ]
  },
  {
   "cell_type": "code",
   "execution_count": 16,
   "metadata": {},
   "outputs": [
    {
     "name": "stderr",
     "output_type": "stream",
     "text": [
      "100%|██████████| 300/300 [01:46<00:00,  2.82it/s, training loss=0.196, validation loss=0.165, test loss=0.146]\n",
      "100%|██████████| 300/300 [01:46<00:00,  2.82it/s, training loss=0.917, validation loss=1.17, test loss=0.871]\n",
      "100%|██████████| 300/300 [01:46<00:00,  2.82it/s, training loss=0.549, validation loss=0.545, test loss=0.452]\n",
      "100%|██████████| 300/300 [01:46<00:00,  2.82it/s, training loss=0.646, validation loss=0.755, test loss=0.895]\n",
      "100%|██████████| 300/300 [01:46<00:00,  2.82it/s, training loss=0.713, validation loss=0.806, test loss=0.479]\n",
      "100%|██████████| 300/300 [01:46<00:00,  2.82it/s, training loss=0.965, validation loss=0.99, test loss=1.14] \n",
      "100%|██████████| 300/300 [01:46<00:00,  2.82it/s, training loss=0.482, validation loss=0.443, test loss=0.401]\n",
      "100%|██████████| 300/300 [01:46<00:00,  2.82it/s, training loss=0.739, validation loss=0.625, test loss=0.77] \n",
      "100%|██████████| 300/300 [01:46<00:00,  2.82it/s, training loss=0.852, validation loss=0.966, test loss=0.746]\n",
      "100%|██████████| 300/300 [01:46<00:00,  2.82it/s, training loss=0.595, validation loss=0.763, test loss=0.756]\n"
     ]
    }
   ],
   "source": [
    "# target: fractal cluster CQCA\n",
    "# learning model: periodic cluster CQCA\n",
    "for m in range(START_MODEL, NUM_MODELS):\n",
    "    # Define model for data generation - fractal cluster CQCA\n",
    "    model_data = DataFMNISTModel(QUBITS, \n",
    "                                 NUM_LAYERS_ENC, \n",
    "                                 NUM_LAYERS_VAR_CF, \n",
    "                                 CQCA_CF, \n",
    "                                 OBSERVABLES, \n",
    "                                 False, \n",
    "                                 SINGLE_PARAM_CF)\n",
    "    # Define model - periodic cluster CQCA\n",
    "    model_train = PQCAModel(QUBITS, \n",
    "                            NUM_LAYERS_ENC, \n",
    "                            NUM_LAYERS_VAR_CP, \n",
    "                            CQCA_CP, \n",
    "                            OBSERVABLES, \n",
    "                            True, \n",
    "                            SINGLE_PARAM_CP)\n",
    "    \n",
    "    path_data = \"./results/data_cp_learns_cf_\"+str(m)+\".pckl\"\n",
    "    path = \"./results/results_cp_learns_cf_\"+str(m)+\".pckl\"\n",
    "\n",
    "    # run training an save\n",
    "    train_save_model(model_train, \n",
    "                     model_data, \n",
    "                     NUM_STEPS, \n",
    "                     NUM_TRAIN, \n",
    "                     NUM_TEST, \n",
    "                     NORM, \n",
    "                     path, \n",
    "                     path_data)"
   ]
  },
  {
   "cell_type": "markdown",
   "metadata": {},
   "source": [
    "### Periodic cluster CQCA as a target"
   ]
  },
  {
   "cell_type": "markdown",
   "metadata": {},
   "source": [
    "**Target:** Periodic cluster CQCA\n",
    "\n",
    "**Learning Model:** Cluster CQCA"
   ]
  },
  {
   "cell_type": "code",
   "execution_count": 17,
   "metadata": {},
   "outputs": [
    {
     "name": "stderr",
     "output_type": "stream",
     "text": [
      "  0%|          | 1/300 [00:00<02:01,  2.46it/s, training loss=1.02, validation loss=1.02, test loss=1.12]"
     ]
    },
    {
     "name": "stderr",
     "output_type": "stream",
     "text": [
      "100%|██████████| 300/300 [02:00<00:00,  2.49it/s, training loss=0.0268, validation loss=0.0287, test loss=0.0288]\n",
      "100%|██████████| 300/300 [02:00<00:00,  2.50it/s, training loss=0.0397, validation loss=0.0494, test loss=0.0369]\n",
      "100%|██████████| 300/300 [02:00<00:00,  2.50it/s, training loss=0.233, validation loss=0.271, test loss=0.311]\n",
      "100%|██████████| 300/300 [02:00<00:00,  2.50it/s, training loss=0.0763, validation loss=0.0861, test loss=0.0976]\n",
      "100%|██████████| 300/300 [02:00<00:00,  2.50it/s, training loss=0.00772, validation loss=0.0086, test loss=0.00841] \n",
      "100%|██████████| 300/300 [02:00<00:00,  2.50it/s, training loss=0.193, validation loss=0.266, test loss=0.233]\n",
      "100%|██████████| 300/300 [02:00<00:00,  2.50it/s, training loss=0.0553, validation loss=0.0618, test loss=0.0563]\n",
      "100%|██████████| 300/300 [02:00<00:00,  2.50it/s, training loss=0.00675, validation loss=0.00702, test loss=0.00708]\n",
      "100%|██████████| 300/300 [02:00<00:00,  2.50it/s, training loss=0.00201, validation loss=0.0026, test loss=0.00243] \n",
      "100%|██████████| 300/300 [02:00<00:00,  2.50it/s, training loss=0.0485, validation loss=0.051, test loss=0.06]   \n"
     ]
    }
   ],
   "source": [
    "# target: periodic cluster CQCA\n",
    "# learning model: cluster CQCA\n",
    "START_MODEL = 0#TODO: remove\n",
    "for m in range(START_MODEL, NUM_MODELS):\n",
    "    # Define model for data generation - periodic cluster CQCA\n",
    "    model_data = DataFMNISTModel(QUBITS, \n",
    "                                 NUM_LAYERS_ENC, \n",
    "                                 NUM_LAYERS_VAR_CP, \n",
    "                                 CQCA_CP, \n",
    "                                 OBSERVABLES, \n",
    "                                 False, \n",
    "                                 SINGLE_PARAM_CP)\n",
    "    # Define model - cluster CQCA\n",
    "    model_train = PQCAModel(QUBITS, \n",
    "                            NUM_LAYERS_ENC, \n",
    "                            NUM_LAYERS_VAR_C, \n",
    "                            CQCA_C, \n",
    "                            OBSERVABLES, \n",
    "                            True, \n",
    "                            SINGLE_PARAM_C)\n",
    "    \n",
    "    path_data = \"./results/data_c_learns_cp_\"+str(m)+\".pckl\"\n",
    "    path = \"./results/results_c_learns_cp_\"+str(m)+\".pckl\"\n",
    "\n",
    "    # run training an save\n",
    "    train_save_model(model_train, \n",
    "                     model_data, \n",
    "                     NUM_STEPS, \n",
    "                     NUM_TRAIN, \n",
    "                     NUM_TEST, \n",
    "                     NORM, \n",
    "                     path, \n",
    "                     path_data)"
   ]
  },
  {
   "cell_type": "markdown",
   "metadata": {},
   "source": [
    "**Target:** Periodic cluster CQCA\n",
    "\n",
    "**Learning Model:** Periodic cluster CQCA"
   ]
  },
  {
   "cell_type": "code",
   "execution_count": 18,
   "metadata": {},
   "outputs": [
    {
     "name": "stderr",
     "output_type": "stream",
     "text": [
      "  1%|          | 2/300 [00:00<01:43,  2.87it/s, training loss=0.997, validation loss=0.924, test loss=1.15]"
     ]
    },
    {
     "name": "stderr",
     "output_type": "stream",
     "text": [
      "100%|██████████| 300/300 [01:45<00:00,  2.83it/s, training loss=0.00547, validation loss=0.00631, test loss=0.00595]\n",
      "100%|██████████| 300/300 [01:45<00:00,  2.84it/s, training loss=0.0144, validation loss=0.0193, test loss=0.021] \n",
      "100%|██████████| 300/300 [01:45<00:00,  2.83it/s, training loss=0.00355, validation loss=0.00352, test loss=0.00376]\n",
      "100%|██████████| 300/300 [01:45<00:00,  2.84it/s, training loss=0.0366, validation loss=0.0405, test loss=0.0433]\n",
      "100%|██████████| 300/300 [01:45<00:00,  2.83it/s, training loss=0.000121, validation loss=0.000139, test loss=0.000117]\n",
      "100%|██████████| 300/300 [01:45<00:00,  2.83it/s, training loss=0.0207, validation loss=0.022, test loss=0.0197] \n",
      "100%|██████████| 300/300 [01:45<00:00,  2.84it/s, training loss=0.00232, validation loss=0.00195, test loss=0.00208]\n",
      "100%|██████████| 300/300 [01:45<00:00,  2.83it/s, training loss=0.000225, validation loss=0.000253, test loss=0.000251]\n",
      "100%|██████████| 300/300 [01:45<00:00,  2.83it/s, training loss=0.163, validation loss=0.231, test loss=0.142]\n",
      "100%|██████████| 300/300 [01:45<00:00,  2.83it/s, training loss=7.8e-5, validation loss=8.84e-5, test loss=8.07e-5]    \n"
     ]
    }
   ],
   "source": [
    "# target: periodic cluster CQCA\n",
    "# learning model: periodic cluster CQCA\n",
    "for m in range(START_MODEL, NUM_MODELS):\n",
    "    # Define model for data generation - periodic cluster CQCA\n",
    "    model_data = DataFMNISTModel(QUBITS, \n",
    "                                 NUM_LAYERS_ENC, \n",
    "                                 NUM_LAYERS_VAR_CP, \n",
    "                                 CQCA_CP, \n",
    "                                 OBSERVABLES, \n",
    "                                 False, \n",
    "                                 SINGLE_PARAM_CP)\n",
    "    # Define model - periodic cluster CQCA\n",
    "    model_train = PQCAModel(QUBITS, \n",
    "                            NUM_LAYERS_ENC, \n",
    "                            NUM_LAYERS_VAR_CP, \n",
    "                            CQCA_CP, \n",
    "                            OBSERVABLES, \n",
    "                            True, \n",
    "                            SINGLE_PARAM_CP)\n",
    "    \n",
    "    path_data = \"./results/data_cp_learns_cp_\"+str(m)+\".pckl\"\n",
    "    path = \"./results/results_cp_learns_cp_\"+str(m)+\".pckl\"\n",
    "\n",
    "    # run training an save\n",
    "    train_save_model(model_train, \n",
    "                     model_data, \n",
    "                     NUM_STEPS, \n",
    "                     NUM_TRAIN, \n",
    "                     NUM_TEST, \n",
    "                     NORM, \n",
    "                     path, \n",
    "                     path_data)"
   ]
  },
  {
   "cell_type": "markdown",
   "metadata": {},
   "source": [
    "**Target:** Periodic cluster CQCA\n",
    "\n",
    "**Learning Model:** Fractal cluster CQCA"
   ]
  },
  {
   "cell_type": "code",
   "execution_count": 19,
   "metadata": {},
   "outputs": [
    {
     "name": "stderr",
     "output_type": "stream",
     "text": [
      "  0%|          | 0/300 [00:00<?, ?it/s]"
     ]
    },
    {
     "name": "stderr",
     "output_type": "stream",
     "text": [
      "100%|██████████| 300/300 [03:34<00:00,  1.40it/s, training loss=0.481, validation loss=0.592, test loss=0.536]\n",
      "100%|██████████| 300/300 [03:34<00:00,  1.40it/s, training loss=0.54, validation loss=0.668, test loss=0.585] \n",
      "100%|██████████| 300/300 [03:34<00:00,  1.40it/s, training loss=0.325, validation loss=0.369, test loss=0.442]\n",
      "100%|██████████| 300/300 [03:34<00:00,  1.40it/s, training loss=0.343, validation loss=0.331, test loss=0.488]\n",
      "100%|██████████| 300/300 [03:34<00:00,  1.40it/s, training loss=0.158, validation loss=0.15, test loss=0.194] \n",
      "100%|██████████| 300/300 [03:35<00:00,  1.40it/s, training loss=0.644, validation loss=0.785, test loss=0.79] \n",
      "100%|██████████| 300/300 [03:34<00:00,  1.40it/s, training loss=0.249, validation loss=0.338, test loss=0.307]\n",
      "100%|██████████| 300/300 [03:35<00:00,  1.39it/s, training loss=0.696, validation loss=0.84, test loss=0.797] \n",
      "100%|██████████| 300/300 [03:35<00:00,  1.39it/s, training loss=0.219, validation loss=0.231, test loss=0.198]\n",
      "100%|██████████| 300/300 [03:35<00:00,  1.39it/s, training loss=0.144, validation loss=0.21, test loss=0.137] \n"
     ]
    }
   ],
   "source": [
    "# target: periodic cluster CQCA\n",
    "# learning model: fractal cluster CQCA\n",
    "START_MODEL = 0 #TODO: remove\n",
    "for m in range(START_MODEL, NUM_MODELS):\n",
    "    # Define model for data generation - periodic cluster CQCA\n",
    "    model_data = DataFMNISTModel(QUBITS, \n",
    "                                 NUM_LAYERS_ENC, \n",
    "                                 NUM_LAYERS_VAR_CP, \n",
    "                                 CQCA_CP, \n",
    "                                 OBSERVABLES, \n",
    "                                 False, \n",
    "                                 SINGLE_PARAM_CP)\n",
    "    # Define model - fractal cluster CQCA\n",
    "    model_train = PQCAModel(QUBITS, \n",
    "                            NUM_LAYERS_ENC, \n",
    "                            NUM_LAYERS_VAR_CF, \n",
    "                            CQCA_CF, \n",
    "                            OBSERVABLES, \n",
    "                            True, \n",
    "                            SINGLE_PARAM_CF)\n",
    "    \n",
    "    path_data = \"./results/data_cf_learns_cp_\"+str(m)+\".pckl\"\n",
    "    path = \"./results/results_cf_learns_cp_\"+str(m)+\".pckl\"\n",
    "\n",
    "    # run training an save\n",
    "    train_save_model(model_train, \n",
    "                     model_data, \n",
    "                     NUM_STEPS, \n",
    "                     NUM_TRAIN, \n",
    "                     NUM_TEST, \n",
    "                     NORM, \n",
    "                     path, \n",
    "                     path_data)"
   ]
  },
  {
   "cell_type": "markdown",
   "metadata": {},
   "source": [
    "## Analysis"
   ]
  },
  {
   "cell_type": "markdown",
   "metadata": {},
   "source": [
    "Load analysis dependencies."
   ]
  },
  {
   "cell_type": "code",
   "execution_count": 3,
   "metadata": {},
   "outputs": [],
   "source": [
    "from matplotlib import pyplot as plt"
   ]
  },
  {
   "cell_type": "markdown",
   "metadata": {},
   "source": [
    "Define function that shows all the important results for the different learning models."
   ]
  },
  {
   "cell_type": "code",
   "execution_count": 51,
   "metadata": {},
   "outputs": [],
   "source": [
    "def plot_results(paths, name_models, num_models, name_plot,\n",
    "                 colors=[['#CC4F1B', '#CC4F1B', '#FF9848'],\n",
    "                         ['#1B2ACC', '#1B2ACC', '#089FFF'],\n",
    "                         ['#15695F', '#1D9485', '#89C7BC']\n",
    "                        ]):\n",
    "    \"\"\"\n",
    "    Function that shows all the important results.\n",
    "    \n",
    "    Args:\n",
    "        paths (list of str): The paths where models have been saved.\n",
    "        name_models (list of str): The associated names of models.\n",
    "        num_models (int): The number of models we average over.\n",
    "        name_plot (str): The plot label.\n",
    "        colors (list of list of str): The plot colors in hex for mean and std. \n",
    "                                Default: [['#CC4F1B', '#CC4F1B', '#FF9848'],\n",
    "                                        ['#1B2ACC', '#1B2ACC', '#089FFF'],\n",
    "                                        ['#15695F', '#1D9485', '#89C7BC']\n",
    "                                        ]\n",
    "    \"\"\"\n",
    "\n",
    "    plt.clf()\n",
    "\n",
    "    mean_converged = []\n",
    "    std_converged = []\n",
    "    best_converged = []\n",
    "    worst_converged = []\n",
    "\n",
    "    for index, path_name in enumerate(paths):\n",
    "        results = []\n",
    "        results_converged = []\n",
    "        for m in range(num_models):\n",
    "            # c learns c\n",
    "            path = \"./results/\"+path_name+str(m)+\".pckl\"\n",
    "            with open(path, \"rb\") as input_file:\n",
    "                model = pickle.load(input_file)\n",
    "            # collect all test results from model\n",
    "            results += [model[0].test_history]\n",
    "\n",
    "            # collect last test results from model\n",
    "            results_converged += [model[0].test_history[-1]]\n",
    "\n",
    "        # collect best and worst results\n",
    "        best_converged += [min(results_converged)]\n",
    "        worst_converged += [max(results_converged)]\n",
    "\n",
    "        # calculate mean\n",
    "        mean = np.mean(results, axis=0)\n",
    "        # x-axis\n",
    "        x = np.array(range(len(mean)))\n",
    "        # calculate standard deviation.\n",
    "        std = np.std(results, axis=0)\n",
    "\n",
    "        # collect last mean value\n",
    "        mean_converged += [mean[-1]]\n",
    "        std_converged += [std[-1]]\n",
    "\n",
    "        # draw plot\n",
    "        plt.plot(x,mean, color=colors[index][0])\n",
    "        plt.fill_between(x, mean+std, mean-std, \n",
    "                        alpha=0.5, \n",
    "                        edgecolor=colors[index][1], \n",
    "                        facecolor=colors[index][2])\n",
    "\n",
    "    # assign plot labels\n",
    "    plt.legend((name_models[0], name_models[1], name_models[2]),\n",
    "            loc='upper right', shadow=True)\n",
    "    plt.grid(False)\n",
    "    plt.ylabel('Mean squared error')\n",
    "    plt.xlabel('Learning step')\n",
    "    plt.title(name_plot)\n",
    "\n",
    "    # Print plot.\n",
    "    plt.show()\n",
    "\n",
    "    # Print the best and worst results.\n",
    "    print(\n",
    "    \"Converged losses:\\n\\n \\\n",
    "    {}: {} +/- {};\\n\\t\\t Best: {}; Worst: {}\\n \\\n",
    "    {}: {} +/- {};\\n\\t\\t Best: {}; Worst: {}\\n \\\n",
    "    {}: {} +/- {};\\n\\t\\t Best: {}; Worst: {}\\n\".format(\n",
    "            name_models[0],mean_converged[0],std_converged[0],best_converged[0],worst_converged[0],\n",
    "            name_models[1],mean_converged[1],std_converged[1],best_converged[1],worst_converged[1],\n",
    "            name_models[2],mean_converged[2],std_converged[2],best_converged[2],worst_converged[2]\n",
    "            )\n",
    "    )"
   ]
  },
  {
   "cell_type": "markdown",
   "metadata": {},
   "source": [
    "## Cluster CQCA as target"
   ]
  },
  {
   "cell_type": "code",
   "execution_count": 52,
   "metadata": {},
   "outputs": [
    {
     "data": {
      "image/png": "[encoded data removed]",
      "text/plain": [
       "<Figure size 432x288 with 1 Axes>"
      ]
     },
     "metadata": {
      "needs_background": "light"
     },
     "output_type": "display_data"
    },
    {
     "name": "stdout",
     "output_type": "stream",
     "text": [
      "Converged losses:\n",
      "\n",
      "     Cluster CQCA: 0.033262886106967926 +/- 0.06656419485807419;\n",
      "\t\t Best: 4.538291875633149e-08; Worst: 0.22418491542339325\n",
      "     Fractal cluster CQCA: 0.3518851399421692 +/- 0.2124977856874466;\n",
      "\t\t Best: 0.07582210004329681; Worst: 0.6703030467033386\n",
      "     Periodic cluster CQCA: 0.5653932094573975 +/- 0.2261608988046646;\n",
      "\t\t Best: 0.08063335716724396; Worst: 0.9399814009666443\n",
      "\n"
     ]
    }
   ],
   "source": [
    "NAME_PLOT = 'Training data generated from cluster CQCA model'\n",
    "NAME_MODELS = ['Cluster CQCA', 'Fractal cluster CQCA', 'Periodic cluster CQCA']\n",
    "NUM_MODELS = 10\n",
    "PATHS = [\"results_c_learns_c_\", \n",
    "         \"results_cf_learns_c_\",\n",
    "         \"results_cp_learns_c_\"]\n",
    "\n",
    "\n",
    "plot_results(PATHS, NAME_MODELS, NUM_MODELS, NAME_PLOT)"
   ]
  },
  {
   "cell_type": "markdown",
   "metadata": {},
   "source": [
    "## Fractal cluster CQCA as target"
   ]
  },
  {
   "cell_type": "code",
   "execution_count": 53,
   "metadata": {},
   "outputs": [
    {
     "data": {
      "image/png": "[encoded data removed]",
      "text/plain": [
       "<Figure size 432x288 with 1 Axes>"
      ]
     },
     "metadata": {
      "needs_background": "light"
     },
     "output_type": "display_data"
    },
    {
     "name": "stdout",
     "output_type": "stream",
     "text": [
      "Converged losses:\n",
      "\n",
      "     Cluster CQCA: 0.48551589250564575 +/- 0.2811009883880615;\n",
      "\t\t Best: 0.07043250650167465; Worst: 1.0209673643112183\n",
      "     Fractal cluster CQCA: 0.2102842628955841 +/- 0.3005068302154541;\n",
      "\t\t Best: 2.5928425628762852e-08; Worst: 0.8954996466636658\n",
      "     Periodic cluster CQCA: 0.665521502494812 +/- 0.2767711579799652;\n",
      "\t\t Best: 0.14579907059669495; Worst: 1.1405925750732422\n",
      "\n"
     ]
    }
   ],
   "source": [
    "NAME_PLOT = 'Training data generated from fractal CQCA model'\n",
    "NAME_MODELS = ['Cluster CQCA', 'Fractal cluster CQCA', 'Periodic cluster CQCA']\n",
    "NUM_MODELS = 10\n",
    "PATHS = [\"results_c_learns_cf_\", \n",
    "         \"results_cf_learns_cf_\",\n",
    "         \"results_cp_learns_cf_\"]\n",
    "\n",
    "\n",
    "plot_results(PATHS, NAME_MODELS, NUM_MODELS, NAME_PLOT)"
   ]
  },
  {
   "cell_type": "markdown",
   "metadata": {},
   "source": [
    "## Periodic cluster CQCA as target"
   ]
  },
  {
   "cell_type": "code",
   "execution_count": 54,
   "metadata": {},
   "outputs": [
    {
     "data": {
      "image/png": "[encoded data removed]",
      "text/plain": [
       "<Figure size 432x288 with 1 Axes>"
      ]
     },
     "metadata": {
      "needs_background": "light"
     },
     "output_type": "display_data"
    },
    {
     "name": "stdout",
     "output_type": "stream",
     "text": [
      "Converged losses:\n",
      "\n",
      "     Cluster CQCA: 0.0838826447725296 +/- 0.09911832958459854;\n",
      "\t\t Best: 0.002436721697449684; Worst: 0.3105243742465973\n",
      "     Fractal cluster CQCA: 0.4472268223762512 +/- 0.2257121503353119;\n",
      "\t\t Best: 0.13689406216144562; Worst: 0.7969082593917847\n",
      "     Periodic cluster CQCA: 0.02342287078499794 +/- 0.0413689911365509;\n",
      "\t\t Best: 8.022944530239329e-05; Worst: 0.1413067877292633\n",
      "\n"
     ]
    }
   ],
   "source": [
    "NAME_PLOT = 'Training data generated from periodic CQCA model'\n",
    "NAME_MODELS = ['Cluster CQCA', 'Fractal cluster CQCA', 'Periodic cluster CQCA']\n",
    "NUM_MODELS = 10\n",
    "PATHS = [\"results_c_learns_cp_\", \n",
    "         \"results_cf_learns_cp_\",\n",
    "         \"results_cp_learns_cp_\"]\n",
    "\n",
    "\n",
    "plot_results(PATHS, NAME_MODELS, NUM_MODELS, NAME_PLOT)"
   ]
  }
 ],
 "metadata": {
  "kernelspec": {
   "display_name": "base",
   "language": "python",
   "name": "python3"
  },
  "language_info": {
   "codemirror_mode": {
    "name": "ipython",
    "version": 3
   },
   "file_extension": ".py",
   "mimetype": "text/x-python",
   "name": "python",
   "nbconvert_exporter": "python",
   "pygments_lexer": "ipython3",
   "version": "3.9.7"
  }
 },
 "nbformat": 4,
 "nbformat_minor": 2
}
