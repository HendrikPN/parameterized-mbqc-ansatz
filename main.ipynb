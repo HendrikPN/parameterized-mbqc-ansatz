{
 "cells": [
  {
   "cell_type": "markdown",
   "metadata": {},
   "source": [
    "# Setup\n",
    "\n",
    "Install tensorflow and tensorflow quantum if necessary."
   ]
  },
  {
   "cell_type": "code",
   "execution_count": 4,
   "metadata": {},
   "outputs": [],
   "source": [
    "%load_ext autoreload"
   ]
  },
  {
   "cell_type": "code",
   "execution_count": 6,
   "metadata": {},
   "outputs": [
    {
     "name": "stdout",
     "output_type": "stream",
     "text": [
      "Requirement already satisfied: tensorflow==2.7.0 in /home/hpn/anaconda3/lib/python3.9/site-packages (2.7.0)\n",
      "Requirement already satisfied: wheel<1.0,>=0.32.0 in /home/hpn/.local/lib/python3.9/site-packages (from tensorflow==2.7.0) (0.36.2)\n",
      "Requirement already satisfied: tensorflow-io-gcs-filesystem>=0.21.0 in /home/hpn/anaconda3/lib/python3.9/site-packages (from tensorflow==2.7.0) (0.29.0)\n",
      "Requirement already satisfied: h5py>=2.9.0 in /home/hpn/anaconda3/lib/python3.9/site-packages (from tensorflow==2.7.0) (3.3.0)\n",
      "Requirement already satisfied: wrapt>=1.11.0 in /home/hpn/anaconda3/lib/python3.9/site-packages (from tensorflow==2.7.0) (1.12.1)\n",
      "Requirement already satisfied: tensorflow-estimator<2.8,~=2.7.0rc0 in /home/hpn/anaconda3/lib/python3.9/site-packages (from tensorflow==2.7.0) (2.7.0)\n",
      "Requirement already satisfied: tensorboard~=2.6 in /home/hpn/anaconda3/lib/python3.9/site-packages (from tensorflow==2.7.0) (2.11.2)\n",
      "Requirement already satisfied: astunparse>=1.6.0 in /home/hpn/anaconda3/lib/python3.9/site-packages (from tensorflow==2.7.0) (1.6.3)\n",
      "Requirement already satisfied: termcolor>=1.1.0 in /home/hpn/anaconda3/lib/python3.9/site-packages (from tensorflow==2.7.0) (2.2.0)\n",
      "Requirement already satisfied: flatbuffers<3.0,>=1.12 in /home/hpn/anaconda3/lib/python3.9/site-packages (from tensorflow==2.7.0) (2.0.7)\n",
      "Requirement already satisfied: numpy>=1.14.5 in /home/hpn/anaconda3/lib/python3.9/site-packages (from tensorflow==2.7.0) (1.24.2)\n",
      "Requirement already satisfied: keras-preprocessing>=1.1.1 in /home/hpn/anaconda3/lib/python3.9/site-packages (from tensorflow==2.7.0) (1.1.2)\n",
      "Requirement already satisfied: libclang>=9.0.1 in /home/hpn/anaconda3/lib/python3.9/site-packages (from tensorflow==2.7.0) (15.0.6.1)\n",
      "Requirement already satisfied: typing-extensions>=3.6.6 in /home/hpn/anaconda3/lib/python3.9/site-packages (from tensorflow==2.7.0) (4.5.0)\n",
      "Requirement already satisfied: grpcio<2.0,>=1.24.3 in /home/hpn/anaconda3/lib/python3.9/site-packages (from tensorflow==2.7.0) (1.51.1)\n",
      "Requirement already satisfied: keras<2.8,>=2.7.0rc0 in /home/hpn/anaconda3/lib/python3.9/site-packages (from tensorflow==2.7.0) (2.7.0)\n",
      "Requirement already satisfied: google-pasta>=0.1.1 in /home/hpn/anaconda3/lib/python3.9/site-packages (from tensorflow==2.7.0) (0.2.0)\n",
      "Requirement already satisfied: gast<0.5.0,>=0.2.1 in /home/hpn/anaconda3/lib/python3.9/site-packages (from tensorflow==2.7.0) (0.4.0)\n",
      "Requirement already satisfied: absl-py>=0.4.0 in /home/hpn/anaconda3/lib/python3.9/site-packages (from tensorflow==2.7.0) (1.4.0)\n",
      "Requirement already satisfied: opt-einsum>=2.3.2 in /home/hpn/anaconda3/lib/python3.9/site-packages (from tensorflow==2.7.0) (3.3.0)\n",
      "Requirement already satisfied: protobuf>=3.9.2 in /home/hpn/anaconda3/lib/python3.9/site-packages (from tensorflow==2.7.0) (3.17.3)\n",
      "Requirement already satisfied: six>=1.12.0 in /home/hpn/anaconda3/lib/python3.9/site-packages (from tensorflow==2.7.0) (1.16.0)\n",
      "Requirement already satisfied: tensorboard-data-server<0.7.0,>=0.6.0 in /home/hpn/anaconda3/lib/python3.9/site-packages (from tensorboard~=2.6->tensorflow==2.7.0) (0.6.1)\n",
      "Requirement already satisfied: werkzeug>=1.0.1 in /home/hpn/anaconda3/lib/python3.9/site-packages (from tensorboard~=2.6->tensorflow==2.7.0) (2.2.3)\n",
      "Requirement already satisfied: markdown>=2.6.8 in /home/hpn/anaconda3/lib/python3.9/site-packages (from tensorboard~=2.6->tensorflow==2.7.0) (3.4.1)\n",
      "Requirement already satisfied: google-auth<3,>=1.6.3 in /home/hpn/anaconda3/lib/python3.9/site-packages (from tensorboard~=2.6->tensorflow==2.7.0) (1.18.0)\n",
      "Requirement already satisfied: tensorboard-plugin-wit>=1.6.0 in /home/hpn/anaconda3/lib/python3.9/site-packages (from tensorboard~=2.6->tensorflow==2.7.0) (1.8.1)\n",
      "Requirement already satisfied: requests<3,>=2.21.0 in /home/hpn/anaconda3/lib/python3.9/site-packages (from tensorboard~=2.6->tensorflow==2.7.0) (2.26.0)\n",
      "Requirement already satisfied: setuptools>=41.0.0 in /home/hpn/anaconda3/lib/python3.9/site-packages (from tensorboard~=2.6->tensorflow==2.7.0) (67.6.0)\n",
      "Requirement already satisfied: google-auth-oauthlib<0.5,>=0.4.1 in /home/hpn/anaconda3/lib/python3.9/site-packages (from tensorboard~=2.6->tensorflow==2.7.0) (0.4.6)\n",
      "Requirement already satisfied: rsa<5,>=3.1.4 in /home/hpn/anaconda3/lib/python3.9/site-packages (from google-auth<3,>=1.6.3->tensorboard~=2.6->tensorflow==2.7.0) (4.9)\n",
      "Requirement already satisfied: cachetools<5.0,>=2.0.0 in /home/hpn/anaconda3/lib/python3.9/site-packages (from google-auth<3,>=1.6.3->tensorboard~=2.6->tensorflow==2.7.0) (4.2.4)\n",
      "Requirement already satisfied: pyasn1-modules>=0.2.1 in /home/hpn/anaconda3/lib/python3.9/site-packages (from google-auth<3,>=1.6.3->tensorboard~=2.6->tensorflow==2.7.0) (0.2.8)\n",
      "Requirement already satisfied: requests-oauthlib>=0.7.0 in /home/hpn/anaconda3/lib/python3.9/site-packages (from google-auth-oauthlib<0.5,>=0.4.1->tensorboard~=2.6->tensorflow==2.7.0) (1.3.1)\n",
      "Requirement already satisfied: importlib-metadata>=4.4 in /home/hpn/anaconda3/lib/python3.9/site-packages (from markdown>=2.6.8->tensorboard~=2.6->tensorflow==2.7.0) (4.8.1)\n",
      "Requirement already satisfied: idna<4,>=2.5 in /home/hpn/anaconda3/lib/python3.9/site-packages (from requests<3,>=2.21.0->tensorboard~=2.6->tensorflow==2.7.0) (3.2)\n",
      "Requirement already satisfied: certifi>=2017.4.17 in /home/hpn/anaconda3/lib/python3.9/site-packages (from requests<3,>=2.21.0->tensorboard~=2.6->tensorflow==2.7.0) (2021.10.8)\n",
      "Requirement already satisfied: urllib3<1.27,>=1.21.1 in /home/hpn/anaconda3/lib/python3.9/site-packages (from requests<3,>=2.21.0->tensorboard~=2.6->tensorflow==2.7.0) (1.26.7)\n",
      "Requirement already satisfied: charset-normalizer~=2.0.0 in /home/hpn/anaconda3/lib/python3.9/site-packages (from requests<3,>=2.21.0->tensorboard~=2.6->tensorflow==2.7.0) (2.0.4)\n",
      "Requirement already satisfied: MarkupSafe>=2.1.1 in /home/hpn/anaconda3/lib/python3.9/site-packages (from werkzeug>=1.0.1->tensorboard~=2.6->tensorflow==2.7.0) (2.1.2)\n",
      "Requirement already satisfied: zipp>=0.5 in /home/hpn/anaconda3/lib/python3.9/site-packages (from importlib-metadata>=4.4->markdown>=2.6.8->tensorboard~=2.6->tensorflow==2.7.0) (3.6.0)\n",
      "Requirement already satisfied: pyasn1<0.5.0,>=0.4.6 in /home/hpn/anaconda3/lib/python3.9/site-packages (from pyasn1-modules>=0.2.1->google-auth<3,>=1.6.3->tensorboard~=2.6->tensorflow==2.7.0) (0.4.8)\n",
      "Requirement already satisfied: oauthlib>=3.0.0 in /home/hpn/anaconda3/lib/python3.9/site-packages (from requests-oauthlib>=0.7.0->google-auth-oauthlib<0.5,>=0.4.1->tensorboard~=2.6->tensorflow==2.7.0) (3.2.2)\n",
      "\n",
      "\u001b[1m[\u001b[0m\u001b[34;49mnotice\u001b[0m\u001b[1;39;49m]\u001b[0m\u001b[39;49m A new release of pip is available: \u001b[0m\u001b[31;49m23.0.1\u001b[0m\u001b[39;49m -> \u001b[0m\u001b[32;49m23.3.2\u001b[0m\n",
      "\u001b[1m[\u001b[0m\u001b[34;49mnotice\u001b[0m\u001b[1;39;49m]\u001b[0m\u001b[39;49m To update, run: \u001b[0m\u001b[32;49mpip install --upgrade pip\u001b[0m\n"
     ]
    }
   ],
   "source": [
    "!pip install tensorflow==2.7.0"
   ]
  },
  {
   "cell_type": "code",
   "execution_count": 7,
   "metadata": {},
   "outputs": [
    {
     "name": "stdout",
     "output_type": "stream",
     "text": [
      "Requirement already satisfied: tensorflow-quantum==0.7.2 in /home/hpn/anaconda3/lib/python3.9/site-packages (0.7.2)\n",
      "Requirement already satisfied: cirq-core==0.13.1 in /home/hpn/anaconda3/lib/python3.9/site-packages (from tensorflow-quantum==0.7.2) (0.13.1)\n",
      "Requirement already satisfied: sympy==1.8 in /home/hpn/anaconda3/lib/python3.9/site-packages (from tensorflow-quantum==0.7.2) (1.8)\n",
      "Requirement already satisfied: google-api-core==1.21.0 in /home/hpn/anaconda3/lib/python3.9/site-packages (from tensorflow-quantum==0.7.2) (1.21.0)\n",
      "Requirement already satisfied: google-auth==1.18.0 in /home/hpn/anaconda3/lib/python3.9/site-packages (from tensorflow-quantum==0.7.2) (1.18.0)\n",
      "Requirement already satisfied: cirq-google>=0.13.1 in /home/hpn/anaconda3/lib/python3.9/site-packages (from tensorflow-quantum==0.7.2) (0.13.1)\n",
      "Requirement already satisfied: googleapis-common-protos==1.52.0 in /home/hpn/anaconda3/lib/python3.9/site-packages (from tensorflow-quantum==0.7.2) (1.52.0)\n",
      "Requirement already satisfied: protobuf==3.17.3 in /home/hpn/anaconda3/lib/python3.9/site-packages (from tensorflow-quantum==0.7.2) (3.17.3)\n",
      "Requirement already satisfied: networkx~=2.4 in /home/hpn/anaconda3/lib/python3.9/site-packages (from cirq-core==0.13.1->tensorflow-quantum==0.7.2) (2.6.3)\n",
      "Requirement already satisfied: tqdm in /home/hpn/anaconda3/lib/python3.9/site-packages (from cirq-core==0.13.1->tensorflow-quantum==0.7.2) (4.62.3)\n",
      "Requirement already satisfied: pandas in /home/hpn/anaconda3/lib/python3.9/site-packages (from cirq-core==0.13.1->tensorflow-quantum==0.7.2) (1.5.3)\n",
      "Requirement already satisfied: typing-extensions in /home/hpn/anaconda3/lib/python3.9/site-packages (from cirq-core==0.13.1->tensorflow-quantum==0.7.2) (4.5.0)\n",
      "Requirement already satisfied: sortedcontainers~=2.0 in /home/hpn/anaconda3/lib/python3.9/site-packages (from cirq-core==0.13.1->tensorflow-quantum==0.7.2) (2.4.0)\n",
      "Requirement already satisfied: matplotlib~=3.0 in /home/hpn/anaconda3/lib/python3.9/site-packages (from cirq-core==0.13.1->tensorflow-quantum==0.7.2) (3.4.3)\n",
      "Requirement already satisfied: scipy in /home/hpn/anaconda3/lib/python3.9/site-packages (from cirq-core==0.13.1->tensorflow-quantum==0.7.2) (1.10.1)\n",
      "Requirement already satisfied: duet~=0.2.0 in /home/hpn/anaconda3/lib/python3.9/site-packages (from cirq-core==0.13.1->tensorflow-quantum==0.7.2) (0.2.9)\n",
      "Requirement already satisfied: numpy~=1.16 in /home/hpn/anaconda3/lib/python3.9/site-packages (from cirq-core==0.13.1->tensorflow-quantum==0.7.2) (1.24.2)\n",
      "Requirement already satisfied: requests<3.0.0dev,>=2.18.0 in /home/hpn/anaconda3/lib/python3.9/site-packages (from google-api-core==1.21.0->tensorflow-quantum==0.7.2) (2.26.0)\n",
      "Requirement already satisfied: six>=1.10.0 in /home/hpn/anaconda3/lib/python3.9/site-packages (from google-api-core==1.21.0->tensorflow-quantum==0.7.2) (1.16.0)\n",
      "Requirement already satisfied: setuptools>=34.0.0 in /home/hpn/anaconda3/lib/python3.9/site-packages (from google-api-core==1.21.0->tensorflow-quantum==0.7.2) (67.6.0)\n",
      "Requirement already satisfied: pytz in /home/hpn/.local/lib/python3.9/site-packages (from google-api-core==1.21.0->tensorflow-quantum==0.7.2) (2021.1)\n",
      "Requirement already satisfied: cachetools<5.0,>=2.0.0 in /home/hpn/anaconda3/lib/python3.9/site-packages (from google-auth==1.18.0->tensorflow-quantum==0.7.2) (4.2.4)\n",
      "Requirement already satisfied: pyasn1-modules>=0.2.1 in /home/hpn/anaconda3/lib/python3.9/site-packages (from google-auth==1.18.0->tensorflow-quantum==0.7.2) (0.2.8)\n",
      "Requirement already satisfied: rsa<5,>=3.1.4 in /home/hpn/anaconda3/lib/python3.9/site-packages (from google-auth==1.18.0->tensorflow-quantum==0.7.2) (4.9)\n",
      "Requirement already satisfied: mpmath>=0.19 in /home/hpn/anaconda3/lib/python3.9/site-packages (from sympy==1.8->tensorflow-quantum==0.7.2) (1.2.1)\n",
      "Requirement already satisfied: grpcio<2.0dev,>=1.29.0 in /home/hpn/anaconda3/lib/python3.9/site-packages (from google-api-core==1.21.0->tensorflow-quantum==0.7.2) (1.51.1)\n",
      "Requirement already satisfied: cycler>=0.10 in /home/hpn/.local/lib/python3.9/site-packages (from matplotlib~=3.0->cirq-core==0.13.1->tensorflow-quantum==0.7.2) (0.10.0)\n",
      "Requirement already satisfied: python-dateutil>=2.7 in /home/hpn/anaconda3/lib/python3.9/site-packages (from matplotlib~=3.0->cirq-core==0.13.1->tensorflow-quantum==0.7.2) (2.8.2)\n",
      "Requirement already satisfied: pyparsing>=2.2.1 in /home/hpn/anaconda3/lib/python3.9/site-packages (from matplotlib~=3.0->cirq-core==0.13.1->tensorflow-quantum==0.7.2) (3.0.4)\n",
      "Requirement already satisfied: kiwisolver>=1.0.1 in /home/hpn/.local/lib/python3.9/site-packages (from matplotlib~=3.0->cirq-core==0.13.1->tensorflow-quantum==0.7.2) (1.3.1)\n",
      "Requirement already satisfied: pillow>=6.2.0 in /home/hpn/anaconda3/lib/python3.9/site-packages (from matplotlib~=3.0->cirq-core==0.13.1->tensorflow-quantum==0.7.2) (8.4.0)\n",
      "Requirement already satisfied: pyasn1<0.5.0,>=0.4.6 in /home/hpn/anaconda3/lib/python3.9/site-packages (from pyasn1-modules>=0.2.1->google-auth==1.18.0->tensorflow-quantum==0.7.2) (0.4.8)\n",
      "Requirement already satisfied: certifi>=2017.4.17 in /home/hpn/anaconda3/lib/python3.9/site-packages (from requests<3.0.0dev,>=2.18.0->google-api-core==1.21.0->tensorflow-quantum==0.7.2) (2021.10.8)\n",
      "Requirement already satisfied: idna<4,>=2.5 in /home/hpn/anaconda3/lib/python3.9/site-packages (from requests<3.0.0dev,>=2.18.0->google-api-core==1.21.0->tensorflow-quantum==0.7.2) (3.2)\n",
      "Requirement already satisfied: charset-normalizer~=2.0.0 in /home/hpn/anaconda3/lib/python3.9/site-packages (from requests<3.0.0dev,>=2.18.0->google-api-core==1.21.0->tensorflow-quantum==0.7.2) (2.0.4)\n",
      "Requirement already satisfied: urllib3<1.27,>=1.21.1 in /home/hpn/anaconda3/lib/python3.9/site-packages (from requests<3.0.0dev,>=2.18.0->google-api-core==1.21.0->tensorflow-quantum==0.7.2) (1.26.7)\n",
      "\n",
      "\u001b[1m[\u001b[0m\u001b[34;49mnotice\u001b[0m\u001b[1;39;49m]\u001b[0m\u001b[39;49m A new release of pip is available: \u001b[0m\u001b[31;49m23.0.1\u001b[0m\u001b[39;49m -> \u001b[0m\u001b[32;49m23.3.2\u001b[0m\n",
      "\u001b[1m[\u001b[0m\u001b[34;49mnotice\u001b[0m\u001b[1;39;49m]\u001b[0m\u001b[39;49m To update, run: \u001b[0m\u001b[32;49mpip install --upgrade pip\u001b[0m\n"
     ]
    }
   ],
   "source": [
    "!pip install tensorflow-quantum==0.7.2"
   ]
  },
  {
   "cell_type": "code",
   "execution_count": 8,
   "metadata": {},
   "outputs": [
    {
     "data": {
      "text/plain": [
       "<module 'pkg_resources' from '/home/hpn/anaconda3/lib/python3.9/site-packages/pkg_resources/__init__.py'>"
      ]
     },
     "execution_count": 8,
     "metadata": {},
     "output_type": "execute_result"
    }
   ],
   "source": [
    "# Update package resources to account for version changes.\n",
    "import importlib, pkg_resources\n",
    "importlib.reload(pkg_resources)"
   ]
  },
  {
   "cell_type": "markdown",
   "metadata": {},
   "source": [
    "Import tensorflow and the module dependencies:"
   ]
  },
  {
   "cell_type": "code",
   "execution_count": 9,
   "metadata": {},
   "outputs": [],
   "source": [
    "import tensorflow as tf\n",
    "import tensorflow_quantum as tfq\n",
    "\n",
    "import cirq\n",
    "import sympy\n",
    "import numpy as np\n",
    "\n",
    "from tqdm import trange\n",
    "import pickle"
   ]
  },
  {
   "cell_type": "markdown",
   "metadata": {},
   "source": [
    "# Results"
   ]
  },
  {
   "cell_type": "code",
   "execution_count": 10,
   "metadata": {},
   "outputs": [],
   "source": [
    "%autoreload 2"
   ]
  },
  {
   "cell_type": "markdown",
   "metadata": {},
   "source": [
    "We create three different stilted dataset from fashion MNIST through three CQCA-based quantum models and attempt to learn each with the other.\n",
    "In the following we illustrate the models."
   ]
  },
  {
   "cell_type": "code",
   "execution_count": null,
   "metadata": {},
   "outputs": [
    {
     "name": "stdout",
     "output_type": "stream",
     "text": [
      "(0, 0): ───Rz(theta0)───@───────────────────@───H───Rz(theta6)────@───────────────────@───H───Rz(theta12)───@───────────────────@───H───Rz(theta18)───@───────────────────@───H───\n",
      "                        │                   │                     │                   │                     │                   │                     │                   │\n",
      "(0, 1): ───Rz(theta1)───@───@───────────────┼───H───Rz(theta7)────@───@───────────────┼───H───Rz(theta13)───@───@───────────────┼───H───Rz(theta19)───@───@───────────────┼───H───\n",
      "                            │               │                         │               │                         │               │                         │               │\n",
      "(0, 2): ───Rz(theta2)───────@───@───────────┼───H───Rz(theta8)────────@───@───────────┼───H───Rz(theta14)───────@───@───────────┼───H───Rz(theta20)───────@───@───────────┼───H───\n",
      "                                │           │                             │           │                             │           │                             │           │\n",
      "(0, 3): ───Rz(theta3)───────────@───@───────┼───H───Rz(theta9)────────────@───@───────┼───H───Rz(theta15)───────────@───@───────┼───H───Rz(theta21)───────────@───@───────┼───H───\n",
      "                                    │       │                                 │       │                                 │       │                                 │       │\n",
      "(0, 4): ───Rz(theta4)───────────────@───@───┼───H───Rz(theta10)───────────────@───@───┼───H───Rz(theta16)───────────────@───@───┼───H───Rz(theta22)───────────────@───@───┼───H───\n",
      "                                        │   │                                     │   │                                     │   │                                     │   │\n",
      "(0, 5): ───Rz(theta5)───────────────────@───@───H───Rz(theta11)───────────────────@───@───H───Rz(theta17)───────────────────@───@───H───Rz(theta23)───────────────────@───@───H───\n",
      "\n",
      "\n",
      "(0, 0): ───Rz(theta0)───H───S───H───@───────────────────@───H───Rz(theta6)────H───S───H───@───────────────────@───H───Rz(theta12)───H───S───H───@───────────────────@───H───Rz(theta18)───H───S───H───@───────────────────@───H───\n",
      "                                    │                   │                                 │                   │                                 │                   │                                 │                   │\n",
      "(0, 1): ───Rz(theta1)───H───S───H───@───@───────────────┼───H───Rz(theta7)────H───S───H───@───@───────────────┼───H───Rz(theta13)───H───S───H───@───@───────────────┼───H───Rz(theta19)───H───S───H───@───@───────────────┼───H───\n",
      "                                        │               │                                     │               │                                     │               │                                     │               │\n",
      "(0, 2): ───Rz(theta2)───H───S───H───────@───@───────────┼───H───Rz(theta8)────H───S───H───────@───@───────────┼───H───Rz(theta14)───H───S───H───────@───@───────────┼───H───Rz(theta20)───H───S───H───────@───@───────────┼───H───\n",
      "                                            │           │                                         │           │                                         │           │                                         │           │\n",
      "(0, 3): ───Rz(theta3)───H───S───H───────────@───@───────┼───H───Rz(theta9)────H───S───H───────────@───@───────┼───H───Rz(theta15)───H───S───H───────────@───@───────┼───H───Rz(theta21)───H───S───H───────────@───@───────┼───H───\n",
      "                                                │       │                                             │       │                                             │       │                                             │       │\n",
      "(0, 4): ───Rz(theta4)───H───S───H───────────────@───@───┼───H───Rz(theta10)───H───S───H───────────────@───@───┼───H───Rz(theta16)───H───S───H───────────────@───@───┼───H───Rz(theta22)───H───S───H───────────────@───@───┼───H───\n",
      "                                                    │   │                                                 │   │                                                 │   │                                                 │   │\n",
      "(0, 5): ───Rz(theta5)───H───S───H───────────────────@───@───H───Rz(theta11)───H───S───H───────────────────@───@───H───Rz(theta17)───H───S───H───────────────────@───@───H───Rz(theta23)───H───S───H───────────────────@───@───H───\n",
      "\n",
      "(0, 0): ───Rz(theta0)───@───────────────────@───H───Rz(theta6)────H───Rz(theta12)───@───────────────────@───H───Rz(theta18)───H───\n",
      "                        │                   │                                       │                   │\n",
      "(0, 1): ───Rz(theta1)───@───@───────────────┼───H───Rz(theta7)────H───Rz(theta13)───@───@───────────────┼───H───Rz(theta19)───H───\n",
      "                            │               │                                           │               │\n",
      "(0, 2): ───Rz(theta2)───────@───@───────────┼───H───Rz(theta8)────H───Rz(theta14)───────@───@───────────┼───H───Rz(theta20)───H───\n",
      "                                │           │                                               │           │\n",
      "(0, 3): ───Rz(theta3)───────────@───@───────┼───H───Rz(theta9)────H───Rz(theta15)───────────@───@───────┼───H───Rz(theta21)───H───\n",
      "                                    │       │                                                   │       │\n",
      "(0, 4): ───Rz(theta4)───────────────@───@───┼───H───Rz(theta10)───H───Rz(theta16)───────────────@───@───┼───H───Rz(theta22)───H───\n",
      "                                        │   │                                                       │   │\n",
      "(0, 5): ───Rz(theta5)───────────────────@───@───H───Rz(theta11)───H───Rz(theta17)───────────────────@───@───H───Rz(theta23)───H───\n",
      "\n",
      "\n"
     ]
    }
   ],
   "source": [
    "from model.pqca import PQCACirc\n",
    "\n",
    "# Global params\n",
    "NUM_QUBITS = 6\n",
    "QUBITS = cirq.GridQubit.rect(1, NUM_QUBITS)\n",
    "OBSERVABLES = [cirq.Z(QUBITS[0])]\n",
    "NUM_LAYERS_ENC = 1\n",
    "\n",
    "# Model C params \n",
    "NUM_LAYERS_VAR_C = 4\n",
    "SINGLE_PARAM_C = False\n",
    "CQCA_C = [[\"CZ1\", \"H\"]]\n",
    "\n",
    "variational_c = PQCACirc(QUBITS, NUM_LAYERS_VAR_C, CQCA_C, OBSERVABLES, SINGLE_PARAM_C)\n",
    "print(variational_c.circuit)\n",
    "print()\n",
    "print()\n",
    "\n",
    "# Model CF params\n",
    "NUM_LAYERS_VAR_CF = 4\n",
    "SINGLE_PARAM_CF = False\n",
    "CQCA_CF = [[\"H\", \"S\", \"H\", \"CZ1\", \"H\"]] #[[\"CZ1\", \"S\", \"H\", \"S\", \"H\"]]\n",
    "\n",
    "variational_cf = PQCACirc(QUBITS, NUM_LAYERS_VAR_CF, CQCA_CF, OBSERVABLES, SINGLE_PARAM_CF)\n",
    "print(variational_cf.circuit)\n",
    "print()\n",
    "\n",
    "# Model CP params\n",
    "NUM_LAYERS_VAR_CP = 4\n",
    "SINGLE_PARAM_CP = False\n",
    "CQCA_CP = [[\"CZ1\", \"H\"], [\"H\"]]\n",
    "\n",
    "variational_c = PQCACirc(QUBITS, NUM_LAYERS_VAR_CP, CQCA_CP, OBSERVABLES, SINGLE_PARAM_CP)\n",
    "print(variational_c.circuit)\n",
    "print()\n",
    "print()\n"
   ]
  },
  {
   "cell_type": "markdown",
   "metadata": {},
   "source": [
    "## Training"
   ]
  },
  {
   "cell_type": "markdown",
   "metadata": {},
   "source": [
    "We define a function that creates a dataset given a target model and trains a learning model on that dataset. Then it saves both models in approrpirate files."
   ]
  },
  {
   "cell_type": "code",
   "execution_count": null,
   "metadata": {},
   "outputs": [],
   "source": [
    "def train_save_model(model_train, model_data, num_steps, num_train, num_test, norm, path, path_data):\n",
    "    \"\"\"\n",
    "    Generates a stilted dataset from a given model, then trains a given other\n",
    "    model on the dataset. Results and data are saved.\n",
    "    \n",
    "    Args:\n",
    "        model_train (PQCAModel): The training model.\n",
    "        model_data (DataFMNISTModel): The data generating model.\n",
    "        num_steps (int): The number of training steps.\n",
    "        num_train (int): The size of the training data.\n",
    "        num_test (int): The size of the test and validation data.\n",
    "        norm (bool): Whether or not the output should be normalized by the std.\n",
    "        path (str): Where to save the training model data.\n",
    "        path_data (str): Where to save the data generating model data.\n",
    "    \"\"\"\n",
    "    # generate data\n",
    "    x_train, y_train, x_test, y_test, x_test2, y_test2, x_train_save, _ , _ = model_data.create_fMNIST(num_train, num_test, norm)\n",
    "    \n",
    "    # training\n",
    "    tr = trange(num_steps)\n",
    "    for step in tr:\n",
    "        # calculate loss and validation loss in a training step\n",
    "        # data is automatically appended\n",
    "        l, val = model_train.step(x_train, y_train, x_test, y_test)\n",
    "        # calculate test loss (not from training)\n",
    "        test = tf.keras.losses.MeanSquaredError()(model_train.model(x_test2), y_test2).numpy()\n",
    "\n",
    "        # append test data\n",
    "        model_train.test_history += [test]\n",
    "\n",
    "        # Print metrics every 10 epochs\n",
    "        if(step % 10 == 0):\n",
    "            tr.set_postfix({ \"training loss\": round(l,8), \"validation loss\": round(val,8), \"test loss\": round(test,8)})\n",
    "\n",
    "        # if val<10**(-5):\n",
    "        #     break\n",
    "\n",
    "    model_train.pickle_model(path)\n",
    "    model_data.pickle_model(path_data)"
   ]
  },
  {
   "cell_type": "markdown",
   "metadata": {},
   "source": [
    "Load appropriate models and specify parameters."
   ]
  },
  {
   "cell_type": "code",
   "execution_count": null,
   "metadata": {},
   "outputs": [],
   "source": [
    "from model.pqca import PQCAModel\n",
    "from examples.data_model import DataFMNISTModel\n",
    "\n",
    "# Data params\n",
    "TRAIN= False\n",
    "NUM_TRAIN = 500\n",
    "NUM_TEST = 100\n",
    "NORM = True\n",
    "\n",
    "# Training params\n",
    "NUM_STEPS = 500\n",
    "NUM_MODELS = 20\n",
    "START_MODEL = 10\n",
    "LR_VAR = 0.01\n",
    "LR_OUT = 0.1"
   ]
  },
  {
   "cell_type": "markdown",
   "metadata": {},
   "source": [
    "### Cluster CQCA as target"
   ]
  },
  {
   "cell_type": "markdown",
   "metadata": {},
   "source": [
    "**Target:** Cluster CQCA\n",
    "\n",
    "**Learning Model:** Cluster CQCA"
   ]
  },
  {
   "cell_type": "code",
   "execution_count": null,
   "metadata": {},
   "outputs": [
    {
     "name": "stderr",
     "output_type": "stream",
     "text": [
      "100%|██████████| 500/500 [11:54<00:00,  1.43s/it, training loss=1e-8, validation loss=0, test loss=1e-8]               \n",
      "100%|██████████| 500/500 [12:46<00:00,  1.53s/it, training loss=1e-8, validation loss=1e-8, test loss=2e-8]            \n",
      "100%|██████████| 500/500 [10:13<00:00,  1.23s/it, training loss=1e-8, validation loss=1e-8, test loss=1e-8]          \n",
      "100%|██████████| 500/500 [14:51<00:00,  1.78s/it, training loss=0.737, validation loss=0.937, test loss=0.92] \n",
      "100%|██████████| 500/500 [15:32<00:00,  1.87s/it, training loss=0.041, validation loss=0.0444, test loss=0.0359] \n",
      "100%|██████████| 500/500 [15:21<00:00,  1.84s/it, training loss=1e-8, validation loss=1e-8, test loss=1e-8]            \n",
      "100%|██████████| 500/500 [14:34<00:00,  1.75s/it, training loss=0.249, validation loss=0.466, test loss=0.243]\n",
      "100%|██████████| 500/500 [15:28<00:00,  1.86s/it, training loss=0.313, validation loss=0.379, test loss=0.332]\n",
      "100%|██████████| 500/500 [14:11<00:00,  1.70s/it, training loss=1e-8, validation loss=1e-8, test loss=1e-8]            \n",
      "100%|██████████| 500/500 [13:25<00:00,  1.61s/it, training loss=1e-8, validation loss=1e-8, test loss=1e-8]            \n"
     ]
    }
   ],
   "source": [
    "# NUM_MODELS = 10\n",
    "# START_MODEL = 0\n",
    "\n",
    "# target: cluster CQCA\n",
    "# learning model: cluster CQCA\n",
    "for m in range(START_MODEL, NUM_MODELS):\n",
    "    # Define model for data generation - cluster CQCA\n",
    "    model_data = DataFMNISTModel(QUBITS, \n",
    "                                 NUM_LAYERS_ENC, \n",
    "                                 NUM_LAYERS_VAR_C, \n",
    "                                 CQCA_C, \n",
    "                                 OBSERVABLES, \n",
    "                                 False, \n",
    "                                 SINGLE_PARAM_C)\n",
    "    # Define model - cluster CQCA\n",
    "    model_train = PQCAModel(QUBITS, \n",
    "                            NUM_LAYERS_ENC, \n",
    "                            NUM_LAYERS_VAR_C, \n",
    "                            CQCA_C, \n",
    "                            OBSERVABLES, \n",
    "                            True, \n",
    "                            SINGLE_PARAM_C,\n",
    "                            lr_var=LR_VAR,\n",
    "                            lr_out=LR_OUT)\n",
    "\n",
    "    \n",
    "    path_data = \"./results/data_c_learns_c_\"+str(m)+\".pckl\"\n",
    "    path = \"./results/results_c_learns_c_\"+str(m)+\".pckl\"\n",
    "\n",
    "    # run training an save\n",
    "    train_save_model(model_train, \n",
    "                     model_data, \n",
    "                     NUM_STEPS, \n",
    "                     NUM_TRAIN, \n",
    "                     NUM_TEST, \n",
    "                     NORM, \n",
    "                     path, \n",
    "                     path_data)"
   ]
  },
  {
   "cell_type": "markdown",
   "metadata": {},
   "source": [
    "**Target:** Cluster CQCA\n",
    "\n",
    "**Learning Model:** Fractal cluster CQCA"
   ]
  },
  {
   "cell_type": "code",
   "execution_count": null,
   "metadata": {},
   "outputs": [
    {
     "name": "stderr",
     "output_type": "stream",
     "text": [
      "100%|██████████| 500/500 [22:44<00:00,  2.73s/it, training loss=0.806, validation loss=0.895, test loss=1.25]\n",
      "100%|██████████| 500/500 [14:15<00:00,  1.71s/it, training loss=0.861, validation loss=1.02, test loss=1.2] \n",
      "100%|██████████| 500/500 [09:32<00:00,  1.14s/it, training loss=0.855, validation loss=0.861, test loss=0.94] \n",
      "100%|██████████| 500/500 [09:32<00:00,  1.15s/it, training loss=0.639, validation loss=0.656, test loss=0.896]\n",
      "100%|██████████| 500/500 [09:31<00:00,  1.14s/it, training loss=0.824, validation loss=0.993, test loss=1.12]\n",
      "100%|██████████| 500/500 [09:31<00:00,  1.14s/it, training loss=0.795, validation loss=1.16, test loss=0.995]\n",
      "100%|██████████| 500/500 [09:32<00:00,  1.14s/it, training loss=0.722, validation loss=0.804, test loss=0.76] \n",
      "100%|██████████| 500/500 [09:33<00:00,  1.15s/it, training loss=0.697, validation loss=0.785, test loss=0.665]\n",
      "100%|██████████| 500/500 [09:32<00:00,  1.15s/it, training loss=0.837, validation loss=0.828, test loss=1.01] \n",
      "100%|██████████| 500/500 [09:33<00:00,  1.15s/it, training loss=0.739, validation loss=0.955, test loss=1.08]\n"
     ]
    }
   ],
   "source": [
    "# NUM_MODELS = 10\n",
    "# START_MODEL = 0\n",
    "\n",
    "# target: cluster CQCA\n",
    "# learning model: fractal cluster CQCA\n",
    "for m in range(START_MODEL, NUM_MODELS):\n",
    "    # Define model for data generation - cluster CQCA\n",
    "    model_data = DataFMNISTModel(QUBITS, \n",
    "                                 NUM_LAYERS_ENC, \n",
    "                                 NUM_LAYERS_VAR_C, \n",
    "                                 CQCA_C, \n",
    "                                 OBSERVABLES, \n",
    "                                 False, \n",
    "                                 SINGLE_PARAM_C)\n",
    "    # Define model - fractal cluster CQCA\n",
    "    model_train = PQCAModel(QUBITS, \n",
    "                            NUM_LAYERS_ENC, \n",
    "                            NUM_LAYERS_VAR_CF, \n",
    "                            CQCA_CF, \n",
    "                            OBSERVABLES, \n",
    "                            True, \n",
    "                            SINGLE_PARAM_CF)\n",
    "    \n",
    "    path_data = \"./results/data_cf_learns_c_\"+str(m)+\".pckl\"\n",
    "    path = \"./results/results_cf_learns_c_\"+str(m)+\".pckl\"\n",
    "\n",
    "    # run training an save\n",
    "    train_save_model(model_train, \n",
    "                     model_data, \n",
    "                     NUM_STEPS, \n",
    "                     NUM_TRAIN, \n",
    "                     NUM_TEST, \n",
    "                     NORM, \n",
    "                     path, \n",
    "                     path_data)"
   ]
  },
  {
   "cell_type": "markdown",
   "metadata": {},
   "source": [
    "**Target:** Cluster CQCA\n",
    "\n",
    "**Learning Model:** Periodic cluster CQCA"
   ]
  },
  {
   "cell_type": "code",
   "execution_count": null,
   "metadata": {},
   "outputs": [
    {
     "name": "stderr",
     "output_type": "stream",
     "text": [
      "  0%|          | 0/500 [00:00<?, ?it/s]"
     ]
    },
    {
     "name": "stderr",
     "output_type": "stream",
     "text": [
      "100%|██████████| 500/500 [04:56<00:00,  1.69it/s, training loss=0.973, validation loss=1.14, test loss=0.97] \n",
      "100%|██████████| 500/500 [04:56<00:00,  1.69it/s, training loss=1.09, validation loss=1.07, test loss=0.917]\n",
      "100%|██████████| 500/500 [04:56<00:00,  1.68it/s, training loss=0.96, validation loss=1.28, test loss=1.01] \n",
      "100%|██████████| 500/500 [04:56<00:00,  1.69it/s, training loss=1, validation loss=1.03, test loss=1.13]    \n",
      "100%|██████████| 500/500 [04:56<00:00,  1.69it/s, training loss=0.98, validation loss=1.12, test loss=0.899] \n",
      "100%|██████████| 500/500 [04:55<00:00,  1.69it/s, training loss=0.959, validation loss=0.905, test loss=0.975]\n",
      "100%|██████████| 500/500 [04:56<00:00,  1.69it/s, training loss=0.977, validation loss=1.1, test loss=1.05] \n",
      "100%|██████████| 500/500 [04:55<00:00,  1.69it/s, training loss=1, validation loss=0.74, test loss=1.18]    \n",
      "100%|██████████| 500/500 [04:55<00:00,  1.69it/s, training loss=0.973, validation loss=1, test loss=1.11]    \n",
      "100%|██████████| 500/500 [04:55<00:00,  1.69it/s, training loss=0.923, validation loss=1.01, test loss=1.01]\n"
     ]
    }
   ],
   "source": [
    "# NUM_MODELS = 10\n",
    "# START_MODEL = 0\n",
    "\n",
    "# target: cluster CQCA\n",
    "# learning model: periodic cluster CQCA\n",
    "for m in range(START_MODEL, NUM_MODELS):\n",
    "    # Define model for data generation - cluster CQCA\n",
    "    model_data = DataFMNISTModel(QUBITS, \n",
    "                                 NUM_LAYERS_ENC, \n",
    "                                 NUM_LAYERS_VAR_C, \n",
    "                                 CQCA_C, \n",
    "                                 OBSERVABLES, \n",
    "                                 False, \n",
    "                                 SINGLE_PARAM_C)\n",
    "    # Define model - fractal cluster CQCA\n",
    "    model_train = PQCAModel(QUBITS, \n",
    "                            NUM_LAYERS_ENC, \n",
    "                            NUM_LAYERS_VAR_CP, \n",
    "                            CQCA_CP, \n",
    "                            OBSERVABLES, \n",
    "                            True, \n",
    "                            SINGLE_PARAM_CP)\n",
    "    \n",
    "    path_data = \"./results/data_cp_learns_c_\"+str(m)+\".pckl\"\n",
    "    path = \"./results/results_cp_learns_c_\"+str(m)+\".pckl\"\n",
    "\n",
    "    # run training an save\n",
    "    train_save_model(model_train, \n",
    "                     model_data, \n",
    "                     NUM_STEPS, \n",
    "                     NUM_TRAIN, \n",
    "                     NUM_TEST, \n",
    "                     NORM, \n",
    "                     path, \n",
    "                     path_data)"
   ]
  },
  {
   "cell_type": "markdown",
   "metadata": {},
   "source": [
    "### Fractal Cluster CQCA as target"
   ]
  },
  {
   "cell_type": "markdown",
   "metadata": {},
   "source": [
    "**Target:** Fractal cluster CQCA\n",
    "\n",
    "**Learning Model:** Cluster CQCA"
   ]
  },
  {
   "cell_type": "code",
   "execution_count": null,
   "metadata": {},
   "outputs": [
    {
     "name": "stderr",
     "output_type": "stream",
     "text": [
      "100%|██████████| 500/500 [05:39<00:00,  1.47it/s, training loss=0.328, validation loss=0.377, test loss=0.349]\n",
      "100%|██████████| 500/500 [05:39<00:00,  1.47it/s, training loss=0.827, validation loss=1.02, test loss=0.695]\n",
      "100%|██████████| 500/500 [05:39<00:00,  1.47it/s, training loss=0.564, validation loss=0.524, test loss=0.686]\n",
      "100%|██████████| 500/500 [05:39<00:00,  1.47it/s, training loss=0.686, validation loss=0.96, test loss=0.596] \n",
      "100%|██████████| 500/500 [05:39<00:00,  1.47it/s, training loss=0.823, validation loss=0.977, test loss=1.02]\n",
      "100%|██████████| 500/500 [05:40<00:00,  1.47it/s, training loss=0.46, validation loss=0.619, test loss=0.414] \n",
      "100%|██████████| 500/500 [05:40<00:00,  1.47it/s, training loss=0.758, validation loss=0.914, test loss=0.883]\n",
      "100%|██████████| 500/500 [05:40<00:00,  1.47it/s, training loss=0.826, validation loss=0.982, test loss=1.19]\n",
      "100%|██████████| 500/500 [05:40<00:00,  1.47it/s, training loss=0.879, validation loss=0.993, test loss=1.02] \n",
      "100%|██████████| 500/500 [05:40<00:00,  1.47it/s, training loss=0.821, validation loss=0.646, test loss=0.884]\n"
     ]
    }
   ],
   "source": [
    "# NUM_MODELS = 10\n",
    "# START_MODEL = 0\n",
    "\n",
    "# target: fractal cluster CQCA\n",
    "# learning model: cluster CQCA\n",
    "for m in range(START_MODEL, NUM_MODELS):\n",
    "    # Define model for data generation - fractal cluster CQCA\n",
    "    model_data = DataFMNISTModel(QUBITS, \n",
    "                                 NUM_LAYERS_ENC, \n",
    "                                 NUM_LAYERS_VAR_CF, \n",
    "                                 CQCA_CF, \n",
    "                                 OBSERVABLES, \n",
    "                                 False, \n",
    "                                 SINGLE_PARAM_CF)\n",
    "    # Define model - cluster CQCA\n",
    "    model_train = PQCAModel(QUBITS, \n",
    "                            NUM_LAYERS_ENC, \n",
    "                            NUM_LAYERS_VAR_C, \n",
    "                            CQCA_C, \n",
    "                            OBSERVABLES, \n",
    "                            True, \n",
    "                            SINGLE_PARAM_C)\n",
    "    \n",
    "    path_data = \"./results/data_c_learns_cf_\"+str(m)+\".pckl\"\n",
    "    path = \"./results/results_c_learns_cf_\"+str(m)+\".pckl\"\n",
    "\n",
    "    # run training an save\n",
    "    train_save_model(model_train, \n",
    "                     model_data, \n",
    "                     NUM_STEPS, \n",
    "                     NUM_TRAIN, \n",
    "                     NUM_TEST, \n",
    "                     NORM, \n",
    "                     path, \n",
    "                     path_data)"
   ]
  },
  {
   "cell_type": "markdown",
   "metadata": {},
   "source": [
    "**Target:** Fractal cluster CQCA\n",
    "\n",
    "**Learning Model:** Fractal cluster CQCA"
   ]
  },
  {
   "cell_type": "code",
   "execution_count": null,
   "metadata": {},
   "outputs": [
    {
     "name": "stderr",
     "output_type": "stream",
     "text": [
      "  0%|          | 0/500 [00:00<?, ?it/s]"
     ]
    },
    {
     "name": "stderr",
     "output_type": "stream",
     "text": [
      "100%|██████████| 500/500 [09:30<00:00,  1.14s/it, training loss=0.221, validation loss=0.268, test loss=0.213]\n",
      "100%|██████████| 500/500 [09:30<00:00,  1.14s/it, training loss=1e-8, validation loss=2e-8, test loss=1e-8]            \n",
      "100%|██████████| 500/500 [09:30<00:00,  1.14s/it, training loss=0.384, validation loss=0.519, test loss=0.615]\n",
      "100%|██████████| 500/500 [09:30<00:00,  1.14s/it, training loss=2e-8, validation loss=1e-8, test loss=2e-8]            \n",
      "100%|██████████| 500/500 [09:30<00:00,  1.14s/it, training loss=1e-8, validation loss=0, test loss=1e-8]               \n",
      "100%|██████████| 500/500 [09:30<00:00,  1.14s/it, training loss=1e-8, validation loss=2e-8, test loss=1e-8]            \n",
      "100%|██████████| 500/500 [09:31<00:00,  1.14s/it, training loss=1e-8, validation loss=1e-8, test loss=2e-8]            \n",
      "100%|██████████| 500/500 [09:31<00:00,  1.14s/it, training loss=0.00546, validation loss=0.00658, test loss=0.00616]\n",
      "100%|██████████| 500/500 [09:31<00:00,  1.14s/it, training loss=1e-8, validation loss=2e-8, test loss=2e-8]            \n",
      "100%|██████████| 500/500 [09:31<00:00,  1.14s/it, training loss=1e-8, validation loss=1e-8, test loss=1e-8]            \n"
     ]
    }
   ],
   "source": [
    "# NUM_MODELS = 10\n",
    "# START_MODEL = 0\n",
    "\n",
    "# target: fractal cluster CQCA\n",
    "# learning model: fractal cluster CQCA\n",
    "for m in range(START_MODEL, NUM_MODELS):\n",
    "    # Define model for data generation - fractal cluster CQCA\n",
    "    model_data = DataFMNISTModel(QUBITS, \n",
    "                                 NUM_LAYERS_ENC, \n",
    "                                 NUM_LAYERS_VAR_CF, \n",
    "                                 CQCA_CF, \n",
    "                                 OBSERVABLES, \n",
    "                                 False, \n",
    "                                 SINGLE_PARAM_CF)\n",
    "    # Define model - fractal cluster CQCA\n",
    "    model_train = PQCAModel(QUBITS, \n",
    "                            NUM_LAYERS_ENC, \n",
    "                            NUM_LAYERS_VAR_CF, \n",
    "                            CQCA_CF, \n",
    "                            OBSERVABLES, \n",
    "                            True, \n",
    "                            SINGLE_PARAM_CF)\n",
    "    \n",
    "    path_data = \"./results/data_cf_learns_cf_\"+str(m)+\".pckl\"\n",
    "    path = \"./results/results_cf_learns_cf_\"+str(m)+\".pckl\"\n",
    "\n",
    "    # run training an save\n",
    "    train_save_model(model_train, \n",
    "                     model_data, \n",
    "                     NUM_STEPS, \n",
    "                     NUM_TRAIN, \n",
    "                     NUM_TEST, \n",
    "                     NORM, \n",
    "                     path, \n",
    "                     path_data)"
   ]
  },
  {
   "cell_type": "markdown",
   "metadata": {},
   "source": [
    "**Target:** Fractal cluster CQCA\n",
    "\n",
    "**Learning Model:** Periodic cluster CQCA"
   ]
  },
  {
   "cell_type": "code",
   "execution_count": null,
   "metadata": {},
   "outputs": [
    {
     "name": "stderr",
     "output_type": "stream",
     "text": [
      "100%|██████████| 500/500 [04:56<00:00,  1.69it/s, training loss=0.975, validation loss=1.17, test loss=1]    \n",
      "100%|██████████| 500/500 [04:56<00:00,  1.68it/s, training loss=1.01, validation loss=1.04, test loss=1.14]\n",
      "100%|██████████| 500/500 [04:56<00:00,  1.68it/s, training loss=0.979, validation loss=0.866, test loss=0.958]\n",
      "100%|██████████| 500/500 [04:56<00:00,  1.69it/s, training loss=0.961, validation loss=1.3, test loss=0.973] \n",
      "100%|██████████| 500/500 [04:56<00:00,  1.69it/s, training loss=0.987, validation loss=1.17, test loss=0.914]\n",
      "100%|██████████| 500/500 [04:56<00:00,  1.69it/s, training loss=0.964, validation loss=1.06, test loss=0.841]\n",
      "100%|██████████| 500/500 [04:55<00:00,  1.69it/s, training loss=0.974, validation loss=0.907, test loss=0.713]\n",
      "100%|██████████| 500/500 [04:55<00:00,  1.69it/s, training loss=0.991, validation loss=1.4, test loss=1.26] \n",
      "100%|██████████| 500/500 [04:55<00:00,  1.69it/s, training loss=0.988, validation loss=1.29, test loss=1.22]\n",
      "100%|██████████| 500/500 [04:55<00:00,  1.69it/s, training loss=0.951, validation loss=0.903, test loss=1.04]\n"
     ]
    }
   ],
   "source": [
    "# NUM_MODELS = 10\n",
    "# START_MODEL = 0\n",
    "\n",
    "# target: fractal cluster CQCA\n",
    "# learning model: periodic cluster CQCA\n",
    "for m in range(START_MODEL, NUM_MODELS):\n",
    "    # Define model for data generation - fractal cluster CQCA\n",
    "    model_data = DataFMNISTModel(QUBITS, \n",
    "                                 NUM_LAYERS_ENC, \n",
    "                                 NUM_LAYERS_VAR_CF, \n",
    "                                 CQCA_CF, \n",
    "                                 OBSERVABLES, \n",
    "                                 False, \n",
    "                                 SINGLE_PARAM_CF)\n",
    "    # Define model - periodic cluster CQCA\n",
    "    model_train = PQCAModel(QUBITS, \n",
    "                            NUM_LAYERS_ENC, \n",
    "                            NUM_LAYERS_VAR_CP, \n",
    "                            CQCA_CP, \n",
    "                            OBSERVABLES, \n",
    "                            True, \n",
    "                            SINGLE_PARAM_CP)\n",
    "    \n",
    "    path_data = \"./results/data_cp_learns_cf_\"+str(m)+\".pckl\"\n",
    "    path = \"./results/results_cp_learns_cf_\"+str(m)+\".pckl\"\n",
    "\n",
    "    # run training an save\n",
    "    train_save_model(model_train, \n",
    "                     model_data, \n",
    "                     NUM_STEPS, \n",
    "                     NUM_TRAIN, \n",
    "                     NUM_TEST, \n",
    "                     NORM, \n",
    "                     path, \n",
    "                     path_data)"
   ]
  },
  {
   "cell_type": "markdown",
   "metadata": {},
   "source": [
    "### Periodic cluster CQCA as a target"
   ]
  },
  {
   "cell_type": "markdown",
   "metadata": {},
   "source": [
    "**Target:** Periodic cluster CQCA\n",
    "\n",
    "**Learning Model:** Cluster CQCA"
   ]
  },
  {
   "cell_type": "code",
   "execution_count": null,
   "metadata": {},
   "outputs": [
    {
     "name": "stderr",
     "output_type": "stream",
     "text": [
      "100%|██████████| 500/500 [05:39<00:00,  1.47it/s, training loss=0.946, validation loss=1.27, test loss=1.39]\n",
      "100%|██████████| 500/500 [05:39<00:00,  1.47it/s, training loss=0.882, validation loss=0.995, test loss=1.74]\n",
      "100%|██████████| 500/500 [05:39<00:00,  1.47it/s, training loss=0.909, validation loss=1.32, test loss=1.71]\n",
      "100%|██████████| 500/500 [05:40<00:00,  1.47it/s, training loss=0.953, validation loss=1.25, test loss=1.51]\n",
      "100%|██████████| 500/500 [05:40<00:00,  1.47it/s, training loss=0.909, validation loss=0.929, test loss=1.17]\n",
      "100%|██████████| 500/500 [05:40<00:00,  1.47it/s, training loss=0.914, validation loss=1.04, test loss=1.4]\n",
      "100%|██████████| 500/500 [05:40<00:00,  1.47it/s, training loss=0.903, validation loss=1.43, test loss=1.47]\n",
      "100%|██████████| 500/500 [05:40<00:00,  1.47it/s, training loss=0.999, validation loss=1, test loss=1.46]   \n",
      "100%|██████████| 500/500 [05:40<00:00,  1.47it/s, training loss=0.879, validation loss=1.02, test loss=1.25] \n",
      "100%|██████████| 500/500 [05:40<00:00,  1.47it/s, training loss=0.884, validation loss=1.06, test loss=0.834]\n",
      "100%|██████████| 500/500 [05:40<00:00,  1.47it/s, training loss=0.903, validation loss=1.46, test loss=1.28]\n",
      "100%|██████████| 500/500 [05:40<00:00,  1.47it/s, training loss=0.91, validation loss=1.29, test loss=1.67] \n",
      "100%|██████████| 500/500 [05:40<00:00,  1.47it/s, training loss=0.999, validation loss=1.4, test loss=1.19]\n",
      "100%|██████████| 500/500 [05:40<00:00,  1.47it/s, training loss=0.916, validation loss=1.18, test loss=0.959]\n",
      "100%|██████████| 500/500 [05:40<00:00,  1.47it/s, training loss=0.909, validation loss=1.13, test loss=1.69]\n",
      "100%|██████████| 500/500 [05:41<00:00,  1.47it/s, training loss=0.882, validation loss=1.04, test loss=1.29]\n",
      "100%|██████████| 500/500 [05:41<00:00,  1.47it/s, training loss=0.932, validation loss=1.27, test loss=1.51]\n",
      "100%|██████████| 500/500 [05:41<00:00,  1.47it/s, training loss=0.897, validation loss=1.12, test loss=1.6] \n",
      "100%|██████████| 500/500 [05:41<00:00,  1.47it/s, training loss=0.913, validation loss=1.3, test loss=1.19] \n",
      "100%|██████████| 500/500 [05:40<00:00,  1.47it/s, training loss=0.912, validation loss=0.943, test loss=1.57]\n"
     ]
    }
   ],
   "source": [
    "# NUM_MODELS = 10\n",
    "# START_MODEL = 0\n",
    "\n",
    "# target: periodic cluster CQCA\n",
    "# learning model: cluster CQCA\n",
    "for m in range(START_MODEL, NUM_MODELS):\n",
    "    # Define model for data generation - periodic cluster CQCA\n",
    "    model_data = DataFMNISTModel(QUBITS, \n",
    "                                 NUM_LAYERS_ENC, \n",
    "                                 NUM_LAYERS_VAR_CP, \n",
    "                                 CQCA_CP, \n",
    "                                 OBSERVABLES, \n",
    "                                 False, \n",
    "                                 SINGLE_PARAM_CP)\n",
    "    # Define model - cluster CQCA\n",
    "    model_train = PQCAModel(QUBITS, \n",
    "                            NUM_LAYERS_ENC, \n",
    "                            NUM_LAYERS_VAR_C, \n",
    "                            CQCA_C, \n",
    "                            OBSERVABLES, \n",
    "                            True, \n",
    "                            SINGLE_PARAM_C)\n",
    "    \n",
    "    path_data = \"./results/data_c_learns_cp_\"+str(m)+\".pckl\"\n",
    "    path = \"./results/results_c_learns_cp_\"+str(m)+\".pckl\"\n",
    "\n",
    "    # run training an save\n",
    "    train_save_model(model_train, \n",
    "                     model_data, \n",
    "                     NUM_STEPS, \n",
    "                     NUM_TRAIN, \n",
    "                     NUM_TEST, \n",
    "                     NORM, \n",
    "                     path, \n",
    "                     path_data)"
   ]
  },
  {
   "cell_type": "markdown",
   "metadata": {},
   "source": [
    "**Target:** Periodic cluster CQCA\n",
    "\n",
    "**Learning Model:** Fractal cluster CQCA"
   ]
  },
  {
   "cell_type": "code",
   "execution_count": null,
   "metadata": {},
   "outputs": [
    {
     "name": "stderr",
     "output_type": "stream",
     "text": [
      "  0%|          | 0/500 [00:00<?, ?it/s]"
     ]
    },
    {
     "name": "stderr",
     "output_type": "stream",
     "text": [
      "100%|██████████| 500/500 [09:31<00:00,  1.14s/it, training loss=0.705, validation loss=0.945, test loss=0.574]\n",
      "100%|██████████| 500/500 [09:31<00:00,  1.14s/it, training loss=0.867, validation loss=1.35, test loss=1.08]\n",
      "100%|██████████| 500/500 [09:31<00:00,  1.14s/it, training loss=0.818, validation loss=1.12, test loss=1.13]\n",
      "100%|██████████| 500/500 [09:31<00:00,  1.14s/it, training loss=0.854, validation loss=1.47, test loss=1.48]\n",
      "100%|██████████| 500/500 [09:31<00:00,  1.14s/it, training loss=0.884, validation loss=1.37, test loss=1.44]\n",
      "100%|██████████| 500/500 [09:32<00:00,  1.14s/it, training loss=0.86, validation loss=1.59, test loss=0.981] \n",
      "100%|██████████| 500/500 [09:32<00:00,  1.14s/it, training loss=0.941, validation loss=1.47, test loss=1.55]\n",
      "100%|██████████| 500/500 [09:32<00:00,  1.14s/it, training loss=0.919, validation loss=1.24, test loss=1.12]\n",
      "100%|██████████| 500/500 [09:32<00:00,  1.14s/it, training loss=0.912, validation loss=1.24, test loss=1.25]\n",
      "100%|██████████| 500/500 [16:37<00:00,  1.99s/it, training loss=0.842, validation loss=1, test loss=1.36]    \n",
      "100%|██████████| 500/500 [15:27<00:00,  1.86s/it, training loss=0.85, validation loss=1.49, test loss=1.34] \n",
      "  1%|          | 3/500 [00:07<20:58,  2.53s/it, training loss=1.05, validation loss=1, test loss=1.36]\n"
     ]
    },
    {
     "ename": "KeyboardInterrupt",
     "evalue": "",
     "output_type": "error",
     "traceback": [
      "\u001b[0;31m---------------------------------------------------------------------------\u001b[0m",
      "\u001b[0;31mKeyboardInterrupt\u001b[0m                         Traceback (most recent call last)",
      "\u001b[0;32m<ipython-input-17-678a9645b914>\u001b[0m in \u001b[0;36m<module>\u001b[0;34m\u001b[0m\n\u001b[1;32m     27\u001b[0m \u001b[0;34m\u001b[0m\u001b[0m\n\u001b[1;32m     28\u001b[0m     \u001b[0;31m# run training an save\u001b[0m\u001b[0;34m\u001b[0m\u001b[0;34m\u001b[0m\u001b[0m\n\u001b[0;32m---> 29\u001b[0;31m     train_save_model(model_train, \n\u001b[0m\u001b[1;32m     30\u001b[0m                      \u001b[0mmodel_data\u001b[0m\u001b[0;34m,\u001b[0m\u001b[0;34m\u001b[0m\u001b[0;34m\u001b[0m\u001b[0m\n\u001b[1;32m     31\u001b[0m                      \u001b[0mNUM_STEPS\u001b[0m\u001b[0;34m,\u001b[0m\u001b[0;34m\u001b[0m\u001b[0;34m\u001b[0m\u001b[0m\n",
      "\u001b[0;32m<ipython-input-8-9c1e6f4fb5de>\u001b[0m in \u001b[0;36mtrain_save_model\u001b[0;34m(model_train, model_data, num_steps, num_train, num_test, norm, path, path_data)\u001b[0m\n\u001b[1;32m     22\u001b[0m         \u001b[0;31m# calculate loss and validation loss in a training step\u001b[0m\u001b[0;34m\u001b[0m\u001b[0;34m\u001b[0m\u001b[0m\n\u001b[1;32m     23\u001b[0m         \u001b[0;31m# data is automatically appended\u001b[0m\u001b[0;34m\u001b[0m\u001b[0;34m\u001b[0m\u001b[0m\n\u001b[0;32m---> 24\u001b[0;31m         \u001b[0ml\u001b[0m\u001b[0;34m,\u001b[0m \u001b[0mval\u001b[0m \u001b[0;34m=\u001b[0m \u001b[0mmodel_train\u001b[0m\u001b[0;34m.\u001b[0m\u001b[0mstep\u001b[0m\u001b[0;34m(\u001b[0m\u001b[0mx_train\u001b[0m\u001b[0;34m,\u001b[0m \u001b[0my_train\u001b[0m\u001b[0;34m,\u001b[0m \u001b[0mx_test\u001b[0m\u001b[0;34m,\u001b[0m \u001b[0my_test\u001b[0m\u001b[0;34m)\u001b[0m\u001b[0;34m\u001b[0m\u001b[0;34m\u001b[0m\u001b[0m\n\u001b[0m\u001b[1;32m     25\u001b[0m         \u001b[0;31m# calculate test loss (not from training)\u001b[0m\u001b[0;34m\u001b[0m\u001b[0;34m\u001b[0m\u001b[0m\n\u001b[1;32m     26\u001b[0m         \u001b[0mtest\u001b[0m \u001b[0;34m=\u001b[0m \u001b[0mtf\u001b[0m\u001b[0;34m.\u001b[0m\u001b[0mkeras\u001b[0m\u001b[0;34m.\u001b[0m\u001b[0mlosses\u001b[0m\u001b[0;34m.\u001b[0m\u001b[0mMeanSquaredError\u001b[0m\u001b[0;34m(\u001b[0m\u001b[0;34m)\u001b[0m\u001b[0;34m(\u001b[0m\u001b[0mmodel_train\u001b[0m\u001b[0;34m.\u001b[0m\u001b[0mmodel\u001b[0m\u001b[0;34m(\u001b[0m\u001b[0mx_test2\u001b[0m\u001b[0;34m)\u001b[0m\u001b[0;34m,\u001b[0m \u001b[0my_test2\u001b[0m\u001b[0;34m)\u001b[0m\u001b[0;34m.\u001b[0m\u001b[0mnumpy\u001b[0m\u001b[0;34m(\u001b[0m\u001b[0;34m)\u001b[0m\u001b[0;34m\u001b[0m\u001b[0;34m\u001b[0m\u001b[0m\n",
      "\u001b[0;32m~/Documents/git/parameterized-mbqc-ansatz/model/pqca.py\u001b[0m in \u001b[0;36mstep\u001b[0;34m(self, X_train, y_train, X_test, y_test, batchsize)\u001b[0m\n\u001b[1;32m    100\u001b[0m \u001b[0;34m\u001b[0m\u001b[0m\n\u001b[1;32m    101\u001b[0m         \u001b[0;31m# Backpropagation\u001b[0m\u001b[0;34m\u001b[0m\u001b[0;34m\u001b[0m\u001b[0m\n\u001b[0;32m--> 102\u001b[0;31m         \u001b[0mgrads\u001b[0m \u001b[0;34m=\u001b[0m \u001b[0mtape\u001b[0m\u001b[0;34m.\u001b[0m\u001b[0mgradient\u001b[0m\u001b[0;34m(\u001b[0m\u001b[0mloss\u001b[0m\u001b[0;34m,\u001b[0m \u001b[0mmodel\u001b[0m\u001b[0;34m.\u001b[0m\u001b[0mtrainable_variables\u001b[0m\u001b[0;34m)\u001b[0m\u001b[0;34m\u001b[0m\u001b[0;34m\u001b[0m\u001b[0m\n\u001b[0m\u001b[1;32m    103\u001b[0m \u001b[0;34m\u001b[0m\u001b[0m\n\u001b[1;32m    104\u001b[0m         \u001b[0mw_var\u001b[0m\u001b[0;34m,\u001b[0m \u001b[0mw_out\u001b[0m \u001b[0;34m=\u001b[0m \u001b[0;36m0\u001b[0m\u001b[0;34m,\u001b[0m \u001b[0;36m1\u001b[0m\u001b[0;34m\u001b[0m\u001b[0;34m\u001b[0m\u001b[0m\n",
      "\u001b[0;32m~/anaconda3/lib/python3.9/site-packages/tensorflow/python/eager/backprop.py\u001b[0m in \u001b[0;36mgradient\u001b[0;34m(self, target, sources, output_gradients, unconnected_gradients)\u001b[0m\n\u001b[1;32m   1082\u001b[0m                           for x in nest.flatten(output_gradients)]\n\u001b[1;32m   1083\u001b[0m \u001b[0;34m\u001b[0m\u001b[0m\n\u001b[0;32m-> 1084\u001b[0;31m     flat_grad = imperative_grad.imperative_grad(\n\u001b[0m\u001b[1;32m   1085\u001b[0m         \u001b[0mself\u001b[0m\u001b[0;34m.\u001b[0m\u001b[0m_tape\u001b[0m\u001b[0;34m,\u001b[0m\u001b[0;34m\u001b[0m\u001b[0;34m\u001b[0m\u001b[0m\n\u001b[1;32m   1086\u001b[0m         \u001b[0mflat_targets\u001b[0m\u001b[0;34m,\u001b[0m\u001b[0;34m\u001b[0m\u001b[0;34m\u001b[0m\u001b[0m\n",
      "\u001b[0;32m~/anaconda3/lib/python3.9/site-packages/tensorflow/python/eager/imperative_grad.py\u001b[0m in \u001b[0;36mimperative_grad\u001b[0;34m(tape, target, sources, output_gradients, sources_raw, unconnected_gradients)\u001b[0m\n\u001b[1;32m     69\u001b[0m         \"Unknown value for unconnected_gradients: %r\" % unconnected_gradients)\n\u001b[1;32m     70\u001b[0m \u001b[0;34m\u001b[0m\u001b[0m\n\u001b[0;32m---> 71\u001b[0;31m   return pywrap_tfe.TFE_Py_TapeGradient(\n\u001b[0m\u001b[1;32m     72\u001b[0m       \u001b[0mtape\u001b[0m\u001b[0;34m.\u001b[0m\u001b[0m_tape\u001b[0m\u001b[0;34m,\u001b[0m  \u001b[0;31m# pylint: disable=protected-access\u001b[0m\u001b[0;34m\u001b[0m\u001b[0;34m\u001b[0m\u001b[0m\n\u001b[1;32m     73\u001b[0m       \u001b[0mtarget\u001b[0m\u001b[0;34m,\u001b[0m\u001b[0;34m\u001b[0m\u001b[0;34m\u001b[0m\u001b[0m\n",
      "\u001b[0;32m~/anaconda3/lib/python3.9/site-packages/tensorflow/python/ops/custom_gradient.py\u001b[0m in \u001b[0;36mactual_grad_fn\u001b[0;34m(*result_grads)\u001b[0m\n\u001b[1;32m    566\u001b[0m                          \"@custom_gradient grad_fn.\")\n\u001b[1;32m    567\u001b[0m     \u001b[0;32melse\u001b[0m\u001b[0;34m:\u001b[0m\u001b[0;34m\u001b[0m\u001b[0;34m\u001b[0m\u001b[0m\n\u001b[0;32m--> 568\u001b[0;31m       \u001b[0minput_grads\u001b[0m \u001b[0;34m=\u001b[0m \u001b[0mgrad_fn\u001b[0m\u001b[0;34m(\u001b[0m\u001b[0;34m*\u001b[0m\u001b[0mresult_grads\u001b[0m\u001b[0;34m)\u001b[0m\u001b[0;34m\u001b[0m\u001b[0;34m\u001b[0m\u001b[0m\n\u001b[0m\u001b[1;32m    569\u001b[0m       \u001b[0mvariable_grads\u001b[0m \u001b[0;34m=\u001b[0m \u001b[0;34m[\u001b[0m\u001b[0;34m]\u001b[0m\u001b[0;34m\u001b[0m\u001b[0;34m\u001b[0m\u001b[0m\n\u001b[1;32m    570\u001b[0m     \u001b[0mflat_grads\u001b[0m \u001b[0;34m=\u001b[0m \u001b[0mnest\u001b[0m\u001b[0;34m.\u001b[0m\u001b[0mflatten\u001b[0m\u001b[0;34m(\u001b[0m\u001b[0minput_grads\u001b[0m\u001b[0;34m)\u001b[0m\u001b[0;34m\u001b[0m\u001b[0;34m\u001b[0m\u001b[0m\n",
      "\u001b[0;32m~/anaconda3/lib/python3.9/site-packages/tensorflow_quantum/python/differentiators/differentiator.py\u001b[0m in \u001b[0;36mgradient\u001b[0;34m(grad)\u001b[0m\n\u001b[1;32m    158\u001b[0m \u001b[0;34m\u001b[0m\u001b[0m\n\u001b[1;32m    159\u001b[0m             \u001b[0;32mdef\u001b[0m \u001b[0mgradient\u001b[0m\u001b[0;34m(\u001b[0m\u001b[0mgrad\u001b[0m\u001b[0;34m)\u001b[0m\u001b[0;34m:\u001b[0m\u001b[0;34m\u001b[0m\u001b[0;34m\u001b[0m\u001b[0m\n\u001b[0;32m--> 160\u001b[0;31m                 return self._differentiate_ana(programs, symbol_names,\n\u001b[0m\u001b[1;32m    161\u001b[0m                                                \u001b[0msymbol_values\u001b[0m\u001b[0;34m,\u001b[0m \u001b[0mpauli_sums\u001b[0m\u001b[0;34m,\u001b[0m\u001b[0;34m\u001b[0m\u001b[0;34m\u001b[0m\u001b[0m\n\u001b[1;32m    162\u001b[0m                                                forward_pass_vals, grad)\n",
      "\u001b[0;32m~/anaconda3/lib/python3.9/site-packages/tensorflow_quantum/python/differentiators/differentiator.py\u001b[0m in \u001b[0;36m_differentiate_ana\u001b[0;34m(self, programs, symbol_names, symbol_values, pauli_sums, forward_pass_vals, grad)\u001b[0m\n\u001b[1;32m    189\u001b[0m     def _differentiate_ana(self, programs, symbol_names, symbol_values,\n\u001b[1;32m    190\u001b[0m                            pauli_sums, forward_pass_vals, grad):\n\u001b[0;32m--> 191\u001b[0;31m         return None, None, self.differentiate_analytic(\n\u001b[0m\u001b[1;32m    192\u001b[0m             \u001b[0mprograms\u001b[0m\u001b[0;34m,\u001b[0m \u001b[0msymbol_names\u001b[0m\u001b[0;34m,\u001b[0m \u001b[0msymbol_values\u001b[0m\u001b[0;34m,\u001b[0m\u001b[0;34m\u001b[0m\u001b[0;34m\u001b[0m\u001b[0m\n\u001b[1;32m    193\u001b[0m             pauli_sums, forward_pass_vals, grad), \\\n",
      "\u001b[0;32m~/anaconda3/lib/python3.9/site-packages/tensorflow_quantum/python/differentiators/differentiator.py\u001b[0m in \u001b[0;36mnew_diff\u001b[0;34m(*args, **kwargs)\u001b[0m\n\u001b[1;32m     41\u001b[0m         \u001b[0mret_zero\u001b[0m \u001b[0;34m=\u001b[0m \u001b[0mtf\u001b[0m\u001b[0;34m.\u001b[0m\u001b[0mlogical_or\u001b[0m\u001b[0;34m(\u001b[0m\u001b[0mempty_args\u001b[0m\u001b[0;34m,\u001b[0m \u001b[0mempty_vals\u001b[0m\u001b[0;34m)\u001b[0m\u001b[0;34m\u001b[0m\u001b[0;34m\u001b[0m\u001b[0m\n\u001b[1;32m     42\u001b[0m         \u001b[0mret_zero\u001b[0m \u001b[0;34m=\u001b[0m \u001b[0mtf\u001b[0m\u001b[0;34m.\u001b[0m\u001b[0mlogical_or\u001b[0m\u001b[0;34m(\u001b[0m\u001b[0mret_zero\u001b[0m\u001b[0;34m,\u001b[0m \u001b[0mempty_symbols\u001b[0m\u001b[0;34m)\u001b[0m\u001b[0;34m\u001b[0m\u001b[0;34m\u001b[0m\u001b[0m\n\u001b[0;32m---> 43\u001b[0;31m         return tf.cond(ret_zero, lambda: tf.zeros_like(symbol_values),\n\u001b[0m\u001b[1;32m     44\u001b[0m                        lambda: func(*args, **kwargs))\n\u001b[1;32m     45\u001b[0m \u001b[0;34m\u001b[0m\u001b[0m\n",
      "\u001b[0;32m~/anaconda3/lib/python3.9/site-packages/tensorflow/python/util/traceback_utils.py\u001b[0m in \u001b[0;36merror_handler\u001b[0;34m(*args, **kwargs)\u001b[0m\n\u001b[1;32m    148\u001b[0m     \u001b[0mfiltered_tb\u001b[0m \u001b[0;34m=\u001b[0m \u001b[0;32mNone\u001b[0m\u001b[0;34m\u001b[0m\u001b[0;34m\u001b[0m\u001b[0m\n\u001b[1;32m    149\u001b[0m     \u001b[0;32mtry\u001b[0m\u001b[0;34m:\u001b[0m\u001b[0;34m\u001b[0m\u001b[0;34m\u001b[0m\u001b[0m\n\u001b[0;32m--> 150\u001b[0;31m       \u001b[0;32mreturn\u001b[0m \u001b[0mfn\u001b[0m\u001b[0;34m(\u001b[0m\u001b[0;34m*\u001b[0m\u001b[0margs\u001b[0m\u001b[0;34m,\u001b[0m \u001b[0;34m**\u001b[0m\u001b[0mkwargs\u001b[0m\u001b[0;34m)\u001b[0m\u001b[0;34m\u001b[0m\u001b[0;34m\u001b[0m\u001b[0m\n\u001b[0m\u001b[1;32m    151\u001b[0m     \u001b[0;32mexcept\u001b[0m \u001b[0mException\u001b[0m \u001b[0;32mas\u001b[0m \u001b[0me\u001b[0m\u001b[0;34m:\u001b[0m\u001b[0;34m\u001b[0m\u001b[0;34m\u001b[0m\u001b[0m\n\u001b[1;32m    152\u001b[0m       \u001b[0mfiltered_tb\u001b[0m \u001b[0;34m=\u001b[0m \u001b[0m_process_traceback_frames\u001b[0m\u001b[0;34m(\u001b[0m\u001b[0me\u001b[0m\u001b[0;34m.\u001b[0m\u001b[0m__traceback__\u001b[0m\u001b[0;34m)\u001b[0m\u001b[0;34m\u001b[0m\u001b[0;34m\u001b[0m\u001b[0m\n",
      "\u001b[0;32m~/anaconda3/lib/python3.9/site-packages/tensorflow/python/util/dispatch.py\u001b[0m in \u001b[0;36mop_dispatch_handler\u001b[0;34m(*args, **kwargs)\u001b[0m\n\u001b[1;32m   1094\u001b[0m       \u001b[0;31m# Fallback dispatch system (dispatch v1):\u001b[0m\u001b[0;34m\u001b[0m\u001b[0;34m\u001b[0m\u001b[0m\n\u001b[1;32m   1095\u001b[0m       \u001b[0;32mtry\u001b[0m\u001b[0;34m:\u001b[0m\u001b[0;34m\u001b[0m\u001b[0;34m\u001b[0m\u001b[0m\n\u001b[0;32m-> 1096\u001b[0;31m         \u001b[0;32mreturn\u001b[0m \u001b[0mdispatch_target\u001b[0m\u001b[0;34m(\u001b[0m\u001b[0;34m*\u001b[0m\u001b[0margs\u001b[0m\u001b[0;34m,\u001b[0m \u001b[0;34m**\u001b[0m\u001b[0mkwargs\u001b[0m\u001b[0;34m)\u001b[0m\u001b[0;34m\u001b[0m\u001b[0;34m\u001b[0m\u001b[0m\n\u001b[0m\u001b[1;32m   1097\u001b[0m       \u001b[0;32mexcept\u001b[0m \u001b[0;34m(\u001b[0m\u001b[0mTypeError\u001b[0m\u001b[0;34m,\u001b[0m \u001b[0mValueError\u001b[0m\u001b[0;34m)\u001b[0m\u001b[0;34m:\u001b[0m\u001b[0;34m\u001b[0m\u001b[0;34m\u001b[0m\u001b[0m\n\u001b[1;32m   1098\u001b[0m         \u001b[0;31m# Note: convert_to_eager_tensor currently raises a ValueError, not a\u001b[0m\u001b[0;34m\u001b[0m\u001b[0;34m\u001b[0m\u001b[0m\n",
      "\u001b[0;32m~/anaconda3/lib/python3.9/site-packages/tensorflow/python/ops/control_flow_ops.py\u001b[0m in \u001b[0;36mcond_for_tf_v2\u001b[0;34m(pred, true_fn, false_fn, name)\u001b[0m\n\u001b[1;32m   1450\u001b[0m \u001b[0;34m\u001b[0m\u001b[0m\n\u001b[1;32m   1451\u001b[0m   \"\"\"\n\u001b[0;32m-> 1452\u001b[0;31m   \u001b[0;32mreturn\u001b[0m \u001b[0mcond\u001b[0m\u001b[0;34m(\u001b[0m\u001b[0mpred\u001b[0m\u001b[0;34m,\u001b[0m \u001b[0mtrue_fn\u001b[0m\u001b[0;34m=\u001b[0m\u001b[0mtrue_fn\u001b[0m\u001b[0;34m,\u001b[0m \u001b[0mfalse_fn\u001b[0m\u001b[0;34m=\u001b[0m\u001b[0mfalse_fn\u001b[0m\u001b[0;34m,\u001b[0m \u001b[0mstrict\u001b[0m\u001b[0;34m=\u001b[0m\u001b[0;32mTrue\u001b[0m\u001b[0;34m,\u001b[0m \u001b[0mname\u001b[0m\u001b[0;34m=\u001b[0m\u001b[0mname\u001b[0m\u001b[0;34m)\u001b[0m\u001b[0;34m\u001b[0m\u001b[0;34m\u001b[0m\u001b[0m\n\u001b[0m\u001b[1;32m   1453\u001b[0m \u001b[0;34m\u001b[0m\u001b[0m\n\u001b[1;32m   1454\u001b[0m \u001b[0;34m\u001b[0m\u001b[0m\n",
      "\u001b[0;32m~/anaconda3/lib/python3.9/site-packages/tensorflow/python/util/traceback_utils.py\u001b[0m in \u001b[0;36merror_handler\u001b[0;34m(*args, **kwargs)\u001b[0m\n\u001b[1;32m    148\u001b[0m     \u001b[0mfiltered_tb\u001b[0m \u001b[0;34m=\u001b[0m \u001b[0;32mNone\u001b[0m\u001b[0;34m\u001b[0m\u001b[0;34m\u001b[0m\u001b[0m\n\u001b[1;32m    149\u001b[0m     \u001b[0;32mtry\u001b[0m\u001b[0;34m:\u001b[0m\u001b[0;34m\u001b[0m\u001b[0;34m\u001b[0m\u001b[0m\n\u001b[0;32m--> 150\u001b[0;31m       \u001b[0;32mreturn\u001b[0m \u001b[0mfn\u001b[0m\u001b[0;34m(\u001b[0m\u001b[0;34m*\u001b[0m\u001b[0margs\u001b[0m\u001b[0;34m,\u001b[0m \u001b[0;34m**\u001b[0m\u001b[0mkwargs\u001b[0m\u001b[0;34m)\u001b[0m\u001b[0;34m\u001b[0m\u001b[0;34m\u001b[0m\u001b[0m\n\u001b[0m\u001b[1;32m    151\u001b[0m     \u001b[0;32mexcept\u001b[0m \u001b[0mException\u001b[0m \u001b[0;32mas\u001b[0m \u001b[0me\u001b[0m\u001b[0;34m:\u001b[0m\u001b[0;34m\u001b[0m\u001b[0;34m\u001b[0m\u001b[0m\n\u001b[1;32m    152\u001b[0m       \u001b[0mfiltered_tb\u001b[0m \u001b[0;34m=\u001b[0m \u001b[0m_process_traceback_frames\u001b[0m\u001b[0;34m(\u001b[0m\u001b[0me\u001b[0m\u001b[0;34m.\u001b[0m\u001b[0m__traceback__\u001b[0m\u001b[0;34m)\u001b[0m\u001b[0;34m\u001b[0m\u001b[0;34m\u001b[0m\u001b[0m\n",
      "\u001b[0;32m~/anaconda3/lib/python3.9/site-packages/tensorflow/python/util/dispatch.py\u001b[0m in \u001b[0;36mop_dispatch_handler\u001b[0;34m(*args, **kwargs)\u001b[0m\n\u001b[1;32m   1094\u001b[0m       \u001b[0;31m# Fallback dispatch system (dispatch v1):\u001b[0m\u001b[0;34m\u001b[0m\u001b[0;34m\u001b[0m\u001b[0m\n\u001b[1;32m   1095\u001b[0m       \u001b[0;32mtry\u001b[0m\u001b[0;34m:\u001b[0m\u001b[0;34m\u001b[0m\u001b[0;34m\u001b[0m\u001b[0m\n\u001b[0;32m-> 1096\u001b[0;31m         \u001b[0;32mreturn\u001b[0m \u001b[0mdispatch_target\u001b[0m\u001b[0;34m(\u001b[0m\u001b[0;34m*\u001b[0m\u001b[0margs\u001b[0m\u001b[0;34m,\u001b[0m \u001b[0;34m**\u001b[0m\u001b[0mkwargs\u001b[0m\u001b[0;34m)\u001b[0m\u001b[0;34m\u001b[0m\u001b[0;34m\u001b[0m\u001b[0m\n\u001b[0m\u001b[1;32m   1097\u001b[0m       \u001b[0;32mexcept\u001b[0m \u001b[0;34m(\u001b[0m\u001b[0mTypeError\u001b[0m\u001b[0;34m,\u001b[0m \u001b[0mValueError\u001b[0m\u001b[0;34m)\u001b[0m\u001b[0;34m:\u001b[0m\u001b[0;34m\u001b[0m\u001b[0;34m\u001b[0m\u001b[0m\n\u001b[1;32m   1098\u001b[0m         \u001b[0;31m# Note: convert_to_eager_tensor currently raises a ValueError, not a\u001b[0m\u001b[0;34m\u001b[0m\u001b[0;34m\u001b[0m\u001b[0m\n",
      "\u001b[0;32m~/anaconda3/lib/python3.9/site-packages/tensorflow/python/util/deprecation.py\u001b[0m in \u001b[0;36mnew_func\u001b[0;34m(*args, **kwargs)\u001b[0m\n\u001b[1;32m    550\u001b[0m                 \u001b[0;34m'in a future version'\u001b[0m \u001b[0;32mif\u001b[0m \u001b[0mdate\u001b[0m \u001b[0;32mis\u001b[0m \u001b[0;32mNone\u001b[0m \u001b[0;32melse\u001b[0m \u001b[0;34m(\u001b[0m\u001b[0;34m'after %s'\u001b[0m \u001b[0;34m%\u001b[0m \u001b[0mdate\u001b[0m\u001b[0;34m)\u001b[0m\u001b[0;34m,\u001b[0m\u001b[0;34m\u001b[0m\u001b[0;34m\u001b[0m\u001b[0m\n\u001b[1;32m    551\u001b[0m                 instructions)\n\u001b[0;32m--> 552\u001b[0;31m       \u001b[0;32mreturn\u001b[0m \u001b[0mfunc\u001b[0m\u001b[0;34m(\u001b[0m\u001b[0;34m*\u001b[0m\u001b[0margs\u001b[0m\u001b[0;34m,\u001b[0m \u001b[0;34m**\u001b[0m\u001b[0mkwargs\u001b[0m\u001b[0;34m)\u001b[0m\u001b[0;34m\u001b[0m\u001b[0;34m\u001b[0m\u001b[0m\n\u001b[0m\u001b[1;32m    553\u001b[0m \u001b[0;34m\u001b[0m\u001b[0m\n\u001b[1;32m    554\u001b[0m     doc = _add_deprecated_arg_notice_to_docstring(\n",
      "\u001b[0;32m~/anaconda3/lib/python3.9/site-packages/tensorflow/python/ops/control_flow_ops.py\u001b[0m in \u001b[0;36mcond\u001b[0;34m(pred, true_fn, false_fn, strict, name, fn1, fn2)\u001b[0m\n\u001b[1;32m   1260\u001b[0m \u001b[0;34m\u001b[0m\u001b[0m\n\u001b[1;32m   1261\u001b[0m   \u001b[0;32mif\u001b[0m \u001b[0mcontext\u001b[0m\u001b[0;34m.\u001b[0m\u001b[0mexecuting_eagerly\u001b[0m\u001b[0;34m(\u001b[0m\u001b[0;34m)\u001b[0m\u001b[0;34m:\u001b[0m\u001b[0;34m\u001b[0m\u001b[0;34m\u001b[0m\u001b[0m\n\u001b[0;32m-> 1262\u001b[0;31m     \u001b[0;32mreturn\u001b[0m \u001b[0m_eager_cond_implementation\u001b[0m\u001b[0;34m(\u001b[0m\u001b[0mpred\u001b[0m\u001b[0;34m,\u001b[0m \u001b[0mtrue_fn\u001b[0m\u001b[0;34m,\u001b[0m \u001b[0mfalse_fn\u001b[0m\u001b[0;34m,\u001b[0m \u001b[0mstrict\u001b[0m\u001b[0;34m,\u001b[0m \u001b[0mname\u001b[0m\u001b[0;34m)\u001b[0m\u001b[0;34m\u001b[0m\u001b[0;34m\u001b[0m\u001b[0m\n\u001b[0m\u001b[1;32m   1263\u001b[0m \u001b[0;34m\u001b[0m\u001b[0m\n\u001b[1;32m   1264\u001b[0m   \u001b[0;31m# Always enable control flow v2 if building a function, regardless of toggle.\u001b[0m\u001b[0;34m\u001b[0m\u001b[0;34m\u001b[0m\u001b[0m\n",
      "\u001b[0;32m~/anaconda3/lib/python3.9/site-packages/tensorflow/python/ops/control_flow_ops.py\u001b[0m in \u001b[0;36m_eager_cond_implementation\u001b[0;34m(pred, true_fn, false_fn, strict, name)\u001b[0m\n\u001b[1;32m   1149\u001b[0m         \u001b[0mresult\u001b[0m \u001b[0;34m=\u001b[0m \u001b[0mtrue_fn\u001b[0m\u001b[0;34m(\u001b[0m\u001b[0;34m)\u001b[0m\u001b[0;34m\u001b[0m\u001b[0;34m\u001b[0m\u001b[0m\n\u001b[1;32m   1150\u001b[0m       \u001b[0;32melse\u001b[0m\u001b[0;34m:\u001b[0m\u001b[0;34m\u001b[0m\u001b[0;34m\u001b[0m\u001b[0m\n\u001b[0;32m-> 1151\u001b[0;31m         \u001b[0mresult\u001b[0m \u001b[0;34m=\u001b[0m \u001b[0mfalse_fn\u001b[0m\u001b[0;34m(\u001b[0m\u001b[0;34m)\u001b[0m\u001b[0;34m\u001b[0m\u001b[0;34m\u001b[0m\u001b[0m\n\u001b[0m\u001b[1;32m   1152\u001b[0m       \u001b[0;32mif\u001b[0m \u001b[0;32mnot\u001b[0m \u001b[0mstrict\u001b[0m\u001b[0;34m:\u001b[0m\u001b[0;34m\u001b[0m\u001b[0;34m\u001b[0m\u001b[0m\n\u001b[1;32m   1153\u001b[0m         \u001b[0mresult\u001b[0m \u001b[0;34m=\u001b[0m \u001b[0m_UnpackIfSingleton\u001b[0m\u001b[0;34m(\u001b[0m\u001b[0mresult\u001b[0m\u001b[0;34m)\u001b[0m\u001b[0;34m\u001b[0m\u001b[0;34m\u001b[0m\u001b[0m\n",
      "\u001b[0;32m~/anaconda3/lib/python3.9/site-packages/tensorflow_quantum/python/differentiators/differentiator.py\u001b[0m in \u001b[0;36m<lambda>\u001b[0;34m()\u001b[0m\n\u001b[1;32m     42\u001b[0m         \u001b[0mret_zero\u001b[0m \u001b[0;34m=\u001b[0m \u001b[0mtf\u001b[0m\u001b[0;34m.\u001b[0m\u001b[0mlogical_or\u001b[0m\u001b[0;34m(\u001b[0m\u001b[0mret_zero\u001b[0m\u001b[0;34m,\u001b[0m \u001b[0mempty_symbols\u001b[0m\u001b[0;34m)\u001b[0m\u001b[0;34m\u001b[0m\u001b[0;34m\u001b[0m\u001b[0m\n\u001b[1;32m     43\u001b[0m         return tf.cond(ret_zero, lambda: tf.zeros_like(symbol_values),\n\u001b[0;32m---> 44\u001b[0;31m                        lambda: func(*args, **kwargs))\n\u001b[0m\u001b[1;32m     45\u001b[0m \u001b[0;34m\u001b[0m\u001b[0m\n\u001b[1;32m     46\u001b[0m     \u001b[0;32mreturn\u001b[0m \u001b[0mnew_diff\u001b[0m\u001b[0;34m\u001b[0m\u001b[0;34m\u001b[0m\u001b[0m\n",
      "\u001b[0;32m~/anaconda3/lib/python3.9/site-packages/tensorflow/python/util/traceback_utils.py\u001b[0m in \u001b[0;36merror_handler\u001b[0;34m(*args, **kwargs)\u001b[0m\n\u001b[1;32m    148\u001b[0m     \u001b[0mfiltered_tb\u001b[0m \u001b[0;34m=\u001b[0m \u001b[0;32mNone\u001b[0m\u001b[0;34m\u001b[0m\u001b[0;34m\u001b[0m\u001b[0m\n\u001b[1;32m    149\u001b[0m     \u001b[0;32mtry\u001b[0m\u001b[0;34m:\u001b[0m\u001b[0;34m\u001b[0m\u001b[0;34m\u001b[0m\u001b[0m\n\u001b[0;32m--> 150\u001b[0;31m       \u001b[0;32mreturn\u001b[0m \u001b[0mfn\u001b[0m\u001b[0;34m(\u001b[0m\u001b[0;34m*\u001b[0m\u001b[0margs\u001b[0m\u001b[0;34m,\u001b[0m \u001b[0;34m**\u001b[0m\u001b[0mkwargs\u001b[0m\u001b[0;34m)\u001b[0m\u001b[0;34m\u001b[0m\u001b[0;34m\u001b[0m\u001b[0m\n\u001b[0m\u001b[1;32m    151\u001b[0m     \u001b[0;32mexcept\u001b[0m \u001b[0mException\u001b[0m \u001b[0;32mas\u001b[0m \u001b[0me\u001b[0m\u001b[0;34m:\u001b[0m\u001b[0;34m\u001b[0m\u001b[0;34m\u001b[0m\u001b[0m\n\u001b[1;32m    152\u001b[0m       \u001b[0mfiltered_tb\u001b[0m \u001b[0;34m=\u001b[0m \u001b[0m_process_traceback_frames\u001b[0m\u001b[0;34m(\u001b[0m\u001b[0me\u001b[0m\u001b[0;34m.\u001b[0m\u001b[0m__traceback__\u001b[0m\u001b[0;34m)\u001b[0m\u001b[0;34m\u001b[0m\u001b[0;34m\u001b[0m\u001b[0m\n",
      "\u001b[0;32m~/anaconda3/lib/python3.9/site-packages/tensorflow/python/eager/def_function.py\u001b[0m in \u001b[0;36m__call__\u001b[0;34m(self, *args, **kwds)\u001b[0m\n\u001b[1;32m    908\u001b[0m \u001b[0;34m\u001b[0m\u001b[0m\n\u001b[1;32m    909\u001b[0m       \u001b[0;32mwith\u001b[0m \u001b[0mOptionalXlaContext\u001b[0m\u001b[0;34m(\u001b[0m\u001b[0mself\u001b[0m\u001b[0;34m.\u001b[0m\u001b[0m_jit_compile\u001b[0m\u001b[0;34m)\u001b[0m\u001b[0;34m:\u001b[0m\u001b[0;34m\u001b[0m\u001b[0;34m\u001b[0m\u001b[0m\n\u001b[0;32m--> 910\u001b[0;31m         \u001b[0mresult\u001b[0m \u001b[0;34m=\u001b[0m \u001b[0mself\u001b[0m\u001b[0;34m.\u001b[0m\u001b[0m_call\u001b[0m\u001b[0;34m(\u001b[0m\u001b[0;34m*\u001b[0m\u001b[0margs\u001b[0m\u001b[0;34m,\u001b[0m \u001b[0;34m**\u001b[0m\u001b[0mkwds\u001b[0m\u001b[0;34m)\u001b[0m\u001b[0;34m\u001b[0m\u001b[0;34m\u001b[0m\u001b[0m\n\u001b[0m\u001b[1;32m    911\u001b[0m \u001b[0;34m\u001b[0m\u001b[0m\n\u001b[1;32m    912\u001b[0m       \u001b[0mnew_tracing_count\u001b[0m \u001b[0;34m=\u001b[0m \u001b[0mself\u001b[0m\u001b[0;34m.\u001b[0m\u001b[0mexperimental_get_tracing_count\u001b[0m\u001b[0;34m(\u001b[0m\u001b[0;34m)\u001b[0m\u001b[0;34m\u001b[0m\u001b[0;34m\u001b[0m\u001b[0m\n",
      "\u001b[0;32m~/anaconda3/lib/python3.9/site-packages/tensorflow/python/eager/def_function.py\u001b[0m in \u001b[0;36m_call\u001b[0;34m(self, *args, **kwds)\u001b[0m\n\u001b[1;32m    947\u001b[0m       \u001b[0;31m# In this case we have not created variables on the first call. So we can\u001b[0m\u001b[0;34m\u001b[0m\u001b[0;34m\u001b[0m\u001b[0m\n\u001b[1;32m    948\u001b[0m       \u001b[0;31m# run the first trace but we should fail if variables are created.\u001b[0m\u001b[0;34m\u001b[0m\u001b[0;34m\u001b[0m\u001b[0m\n\u001b[0;32m--> 949\u001b[0;31m       \u001b[0mresults\u001b[0m \u001b[0;34m=\u001b[0m \u001b[0mself\u001b[0m\u001b[0;34m.\u001b[0m\u001b[0m_stateful_fn\u001b[0m\u001b[0;34m(\u001b[0m\u001b[0;34m*\u001b[0m\u001b[0margs\u001b[0m\u001b[0;34m,\u001b[0m \u001b[0;34m**\u001b[0m\u001b[0mkwds\u001b[0m\u001b[0;34m)\u001b[0m\u001b[0;34m\u001b[0m\u001b[0;34m\u001b[0m\u001b[0m\n\u001b[0m\u001b[1;32m    950\u001b[0m       \u001b[0;32mif\u001b[0m \u001b[0mself\u001b[0m\u001b[0;34m.\u001b[0m\u001b[0m_created_variables\u001b[0m \u001b[0;32mand\u001b[0m \u001b[0;32mnot\u001b[0m \u001b[0mALLOW_DYNAMIC_VARIABLE_CREATION\u001b[0m\u001b[0;34m:\u001b[0m\u001b[0;34m\u001b[0m\u001b[0;34m\u001b[0m\u001b[0m\n\u001b[1;32m    951\u001b[0m         raise ValueError(\"Creating variables on a non-first call to a function\"\n",
      "\u001b[0;32m~/anaconda3/lib/python3.9/site-packages/tensorflow/python/eager/function.py\u001b[0m in \u001b[0;36m__call__\u001b[0;34m(self, *args, **kwargs)\u001b[0m\n\u001b[1;32m   3128\u001b[0m       (graph_function,\n\u001b[1;32m   3129\u001b[0m        filtered_flat_args) = self._maybe_define_function(args, kwargs)\n\u001b[0;32m-> 3130\u001b[0;31m     return graph_function._call_flat(\n\u001b[0m\u001b[1;32m   3131\u001b[0m         filtered_flat_args, captured_inputs=graph_function.captured_inputs)  # pylint: disable=protected-access\n\u001b[1;32m   3132\u001b[0m \u001b[0;34m\u001b[0m\u001b[0m\n",
      "\u001b[0;32m~/anaconda3/lib/python3.9/site-packages/tensorflow/python/eager/function.py\u001b[0m in \u001b[0;36m_call_flat\u001b[0;34m(self, args, captured_inputs, cancellation_manager)\u001b[0m\n\u001b[1;32m   1957\u001b[0m         and executing_eagerly):\n\u001b[1;32m   1958\u001b[0m       \u001b[0;31m# No tape is watching; skip to running the function.\u001b[0m\u001b[0;34m\u001b[0m\u001b[0;34m\u001b[0m\u001b[0m\n\u001b[0;32m-> 1959\u001b[0;31m       return self._build_call_outputs(self._inference_function.call(\n\u001b[0m\u001b[1;32m   1960\u001b[0m           ctx, args, cancellation_manager=cancellation_manager))\n\u001b[1;32m   1961\u001b[0m     forward_backward = self._select_forward_and_backward_functions(\n",
      "\u001b[0;32m~/anaconda3/lib/python3.9/site-packages/tensorflow/python/eager/function.py\u001b[0m in \u001b[0;36mcall\u001b[0;34m(self, ctx, args, cancellation_manager)\u001b[0m\n\u001b[1;32m    596\u001b[0m       \u001b[0;32mwith\u001b[0m \u001b[0m_InterpolateFunctionError\u001b[0m\u001b[0;34m(\u001b[0m\u001b[0mself\u001b[0m\u001b[0;34m)\u001b[0m\u001b[0;34m:\u001b[0m\u001b[0;34m\u001b[0m\u001b[0;34m\u001b[0m\u001b[0m\n\u001b[1;32m    597\u001b[0m         \u001b[0;32mif\u001b[0m \u001b[0mcancellation_manager\u001b[0m \u001b[0;32mis\u001b[0m \u001b[0;32mNone\u001b[0m\u001b[0;34m:\u001b[0m\u001b[0;34m\u001b[0m\u001b[0;34m\u001b[0m\u001b[0m\n\u001b[0;32m--> 598\u001b[0;31m           outputs = execute.execute(\n\u001b[0m\u001b[1;32m    599\u001b[0m               \u001b[0mstr\u001b[0m\u001b[0;34m(\u001b[0m\u001b[0mself\u001b[0m\u001b[0;34m.\u001b[0m\u001b[0msignature\u001b[0m\u001b[0;34m.\u001b[0m\u001b[0mname\u001b[0m\u001b[0;34m)\u001b[0m\u001b[0;34m,\u001b[0m\u001b[0;34m\u001b[0m\u001b[0;34m\u001b[0m\u001b[0m\n\u001b[1;32m    600\u001b[0m               \u001b[0mnum_outputs\u001b[0m\u001b[0;34m=\u001b[0m\u001b[0mself\u001b[0m\u001b[0;34m.\u001b[0m\u001b[0m_num_outputs\u001b[0m\u001b[0;34m,\u001b[0m\u001b[0;34m\u001b[0m\u001b[0;34m\u001b[0m\u001b[0m\n",
      "\u001b[0;32m~/anaconda3/lib/python3.9/site-packages/tensorflow/python/eager/execute.py\u001b[0m in \u001b[0;36mquick_execute\u001b[0;34m(op_name, num_outputs, inputs, attrs, ctx, name)\u001b[0m\n\u001b[1;32m     56\u001b[0m   \u001b[0;32mtry\u001b[0m\u001b[0;34m:\u001b[0m\u001b[0;34m\u001b[0m\u001b[0;34m\u001b[0m\u001b[0m\n\u001b[1;32m     57\u001b[0m     \u001b[0mctx\u001b[0m\u001b[0;34m.\u001b[0m\u001b[0mensure_initialized\u001b[0m\u001b[0;34m(\u001b[0m\u001b[0;34m)\u001b[0m\u001b[0;34m\u001b[0m\u001b[0;34m\u001b[0m\u001b[0m\n\u001b[0;32m---> 58\u001b[0;31m     tensors = pywrap_tfe.TFE_Py_Execute(ctx._handle, device_name, op_name,\n\u001b[0m\u001b[1;32m     59\u001b[0m                                         inputs, attrs, num_outputs)\n\u001b[1;32m     60\u001b[0m   \u001b[0;32mexcept\u001b[0m \u001b[0mcore\u001b[0m\u001b[0;34m.\u001b[0m\u001b[0m_NotOkStatusException\u001b[0m \u001b[0;32mas\u001b[0m \u001b[0me\u001b[0m\u001b[0;34m:\u001b[0m\u001b[0;34m\u001b[0m\u001b[0;34m\u001b[0m\u001b[0m\n",
      "\u001b[0;31mKeyboardInterrupt\u001b[0m: "
     ]
    }
   ],
   "source": [
    "# NUM_MODELS = 10\n",
    "# START_MODEL = 0\n",
    "\n",
    "# target: periodic cluster CQCA\n",
    "# learning model: fractal cluster CQCA\n",
    "for m in range(START_MODEL, NUM_MODELS):\n",
    "    # Define model for data generation - periodic cluster CQCA\n",
    "    model_data = DataFMNISTModel(QUBITS, \n",
    "                                 NUM_LAYERS_ENC, \n",
    "                                 NUM_LAYERS_VAR_CP, \n",
    "                                 CQCA_CP, \n",
    "                                 OBSERVABLES, \n",
    "                                 False, \n",
    "                                 SINGLE_PARAM_CP)\n",
    "    # Define model - fractal cluster CQCA\n",
    "    model_train = PQCAModel(QUBITS, \n",
    "                            NUM_LAYERS_ENC, \n",
    "                            NUM_LAYERS_VAR_CF, \n",
    "                            CQCA_CF, \n",
    "                            OBSERVABLES, \n",
    "                            True, \n",
    "                            SINGLE_PARAM_CF)\n",
    "    \n",
    "    path_data = \"./results/data_cf_learns_cp_\"+str(m)+\".pckl\"\n",
    "    path = \"./results/results_cf_learns_cp_\"+str(m)+\".pckl\"\n",
    "\n",
    "    # run training an save\n",
    "    train_save_model(model_train, \n",
    "                     model_data, \n",
    "                     NUM_STEPS, \n",
    "                     NUM_TRAIN, \n",
    "                     NUM_TEST, \n",
    "                     NORM, \n",
    "                     path, \n",
    "                     path_data)"
   ]
  },
  {
   "cell_type": "markdown",
   "metadata": {},
   "source": [
    "**Target:** Periodic cluster CQCA\n",
    "\n",
    "**Learning Model:** Periodic cluster CQCA"
   ]
  },
  {
   "cell_type": "code",
   "execution_count": null,
   "metadata": {},
   "outputs": [
    {
     "name": "stderr",
     "output_type": "stream",
     "text": [
      "100%|██████████| 500/500 [06:10<00:00,  1.35it/s, training loss=0.0337, validation loss=0.0661, test loss=0.0281]\n",
      "100%|██████████| 500/500 [05:35<00:00,  1.49it/s, training loss=0.275, validation loss=0.246, test loss=0.335]\n",
      "100%|██████████| 500/500 [08:42<00:00,  1.04s/it, training loss=0.000829, validation loss=0.00101, test loss=0.00138]\n",
      "100%|██████████| 500/500 [10:31<00:00,  1.26s/it, training loss=0.00194, validation loss=0.00216, test loss=0.00232]\n"
     ]
    }
   ],
   "source": [
    "# NUM_MODELS = 10\n",
    "START_MODEL = 16\n",
    "\n",
    "# target: periodic cluster CQCA\n",
    "# learning model: periodic cluster CQCA\n",
    "for m in range(START_MODEL, NUM_MODELS):\n",
    "    # Define model for data generation - periodic cluster CQCA\n",
    "    model_data = DataFMNISTModel(QUBITS, \n",
    "                                 NUM_LAYERS_ENC, \n",
    "                                 NUM_LAYERS_VAR_CP, \n",
    "                                 CQCA_CP, \n",
    "                                 OBSERVABLES, \n",
    "                                 False, \n",
    "                                 SINGLE_PARAM_CP)\n",
    "    # Define model - periodic cluster CQCA\n",
    "    model_train = PQCAModel(QUBITS, \n",
    "                            NUM_LAYERS_ENC, \n",
    "                            NUM_LAYERS_VAR_CP, \n",
    "                            CQCA_CP, \n",
    "                            OBSERVABLES, \n",
    "                            True, \n",
    "                            SINGLE_PARAM_CP)\n",
    "    \n",
    "    path_data = \"./results/data_cp_learns_cp_\"+str(m)+\".pckl\"\n",
    "    path = \"./results/results_cp_learns_cp_\"+str(m)+\".pckl\"\n",
    "\n",
    "    # run training an save\n",
    "    train_save_model(model_train, \n",
    "                     model_data, \n",
    "                     NUM_STEPS, \n",
    "                     NUM_TRAIN, \n",
    "                     NUM_TEST, \n",
    "                     NORM, \n",
    "                     path, \n",
    "                     path_data)"
   ]
  },
  {
   "cell_type": "markdown",
   "metadata": {},
   "source": [
    "## Analysis"
   ]
  },
  {
   "cell_type": "markdown",
   "metadata": {},
   "source": [
    "Load analysis dependencies."
   ]
  },
  {
   "cell_type": "code",
   "execution_count": 54,
   "metadata": {},
   "outputs": [],
   "source": [
    "from matplotlib import pyplot as plt\n",
    "import matplotlib as mpl\n",
    "mpl.rc('font',family='Times New Roman')"
   ]
  },
  {
   "cell_type": "markdown",
   "metadata": {},
   "source": [
    "Define function that shows all the important results for the different learning models."
   ]
  },
  {
   "cell_type": "code",
   "execution_count": 53,
   "metadata": {},
   "outputs": [],
   "source": [
    "def plot_results(paths, name_models, num_models, name_plot,\n",
    "                 colors=[['#000000', '#000000', '#DADADA'],\n",
    "                         ['#785ef0', '#785ef0', '#648fff'],\n",
    "                         ['#dc267f', '#dc267f', '#FE6100']\n",
    "                #  colors=[['#CC4F1B', '#CC4F1B', '#FF9848'],\n",
    "                #          ['#1B2ACC', '#1B2ACC', '#089FFF'],\n",
    "                #          ['#15695F', '#1D9485', '#89C7BC']\n",
    "                        ]):\n",
    "    \"\"\"\n",
    "    Function that shows all the important results.\n",
    "    \n",
    "    Args:\n",
    "        paths (list of str): The paths where models have been saved.\n",
    "        name_models (list of str): The associated names of models.\n",
    "        num_models (int): The number of models we average over.\n",
    "        name_plot (str): The plot label.\n",
    "        colors (list of list of str): The plot colors in hex for mean and std. \n",
    "                                Default: [['#000000', '#000000', '#DADADA'],\n",
    "                                          ['#785ef0', '#785ef0', '#648fff'],\n",
    "                                          ['#dc267f', '#dc267f', '#FE6100']\n",
    "                                         ]\n",
    "    \"\"\"\n",
    "\n",
    "    plt.clf()\n",
    "\n",
    "    mean_converged = []\n",
    "    std_converged = []\n",
    "    best_converged = []\n",
    "    worst_converged = []\n",
    "\n",
    "    for index, path_name in enumerate(paths):\n",
    "        results = []\n",
    "        results_converged = []\n",
    "        for m in range(num_models):\n",
    "            # c learns c\n",
    "            path = \"./results/\"+path_name+str(m)+\".pckl\"\n",
    "            with open(path, \"rb\") as input_file:\n",
    "                model = pickle.load(input_file)\n",
    "            # collect all test results from model\n",
    "            results += [model[0].test_history]\n",
    "\n",
    "            # collect last test results from model\n",
    "            results_converged += [model[0].test_history[-1]]\n",
    "\n",
    "        # collect best and worst results\n",
    "        best_converged += [min(results_converged)]\n",
    "        worst_converged += [max(results_converged)]\n",
    "\n",
    "        # calculate mean\n",
    "        mean = np.mean(results, axis=0)\n",
    "        # x-axis\n",
    "        x = np.array(range(len(mean)))\n",
    "        # calculate standard deviation.\n",
    "        std = np.std(results, axis=0)\n",
    "\n",
    "        # collect last mean value\n",
    "        mean_converged += [mean[-1]]\n",
    "        std_converged += [std[-1]]\n",
    "\n",
    "        # draw plot\n",
    "        plt.plot(x,mean, color=colors[index][0])\n",
    "        plt.fill_between(x, mean+std, mean-std, \n",
    "                        alpha=0.3, \n",
    "                        edgecolor=colors[index][1], \n",
    "                        facecolor=colors[index][2])\n",
    "\n",
    "    # assign plot labels\n",
    "    plt.legend((name_models[0], name_models[1], name_models[2]),\n",
    "            loc='upper right', shadow=True)\n",
    "\n",
    "    plt.grid(False)\n",
    "    plt.ylabel('Mean squared error')\n",
    "    plt.xlabel('Learning step')\n",
    "    plt.title(name_plot)\n",
    "\n",
    "    # Print plot.\n",
    "    plt.show()\n",
    "\n",
    "    # Print the best and worst results.\n",
    "    print(\n",
    "    \"Converged losses:\\n\\n \\\n",
    "    {}: {} +/- {};\\n\\t\\t Best: {}; Worst: {}\\n \\\n",
    "    {}: {} +/- {};\\n\\t\\t Best: {}; Worst: {}\\n \\\n",
    "    {}: {} +/- {};\\n\\t\\t Best: {}; Worst: {}\\n\".format(\n",
    "            name_models[0],mean_converged[0],std_converged[0],best_converged[0],worst_converged[0],\n",
    "            name_models[1],mean_converged[1],std_converged[1],best_converged[1],worst_converged[1],\n",
    "            name_models[2],mean_converged[2],std_converged[2],best_converged[2],worst_converged[2]\n",
    "            )\n",
    "    )"
   ]
  },
  {
   "cell_type": "markdown",
   "metadata": {},
   "source": [
    "## Cluster CQCA as target"
   ]
  },
  {
   "cell_type": "code",
   "execution_count": 56,
   "metadata": {},
   "outputs": [
    {
     "data": {
      "image/png": "[encoded data removed]",
      "text/plain": [
       "<Figure size 432x288 with 1 Axes>"
      ]
     },
     "metadata": {
      "needs_background": "light"
     },
     "output_type": "display_data"
    },
    {
     "name": "stdout",
     "output_type": "stream",
     "text": [
      "Converged losses:\n",
      "\n",
      "     Cluster CQCA $T_c$: 0.24295620620250702 +/- 0.25496694445610046;\n",
      "\t\t Best: 9.458732463940578e-09; Worst: 0.631986677646637\n",
      "     Fractal CQCA $\\hat{T}_c$: 1.0540151596069336 +/- 0.19750751554965973;\n",
      "\t\t Best: 0.7780792713165283; Worst: 1.3331266641616821\n",
      "     Periodic CQCA $\\~T_c$: 1.058937430381775 +/- 0.11863476783037186;\n",
      "\t\t Best: 0.8233383297920227; Worst: 1.3011348247528076\n",
      "\n"
     ]
    }
   ],
   "source": [
    "NAME_PLOT = 'Training data generated from cluster CQCA model $T_c$'\n",
    "NAME_MODELS = ['Cluster CQCA $T_c$', 'Fractal CQCA $\\hat{T}_c$', 'Periodic CQCA $\\~T_c$']\n",
    "NUM_MODELS = 10\n",
    "PATHS = [\"results_c_learns_c_\", \n",
    "         \"results_cf_learns_c_\",\n",
    "         \"results_cp_learns_c_\"]\n",
    "\n",
    "\n",
    "plot_results(PATHS, NAME_MODELS, NUM_MODELS, NAME_PLOT)"
   ]
  },
  {
   "cell_type": "markdown",
   "metadata": {},
   "source": [
    "## Fractal cluster CQCA as target"
   ]
  },
  {
   "cell_type": "code",
   "execution_count": 60,
   "metadata": {},
   "outputs": [
    {
     "data": {
      "image/png": "[encoded data removed]",
      "text/plain": [
       "<Figure size 432x288 with 1 Axes>"
      ]
     },
     "metadata": {
      "needs_background": "light"
     },
     "output_type": "display_data"
    },
    {
     "name": "stdout",
     "output_type": "stream",
     "text": [
      "Converged losses:\n",
      "\n",
      "     Cluster CQCA $T_c$: 1.0392611026763916 +/- 0.26291340589523315;\n",
      "\t\t Best: 0.6713038086891174; Worst: 1.5049421787261963\n",
      "     Fractal CQCA $\\hat{T}_c$: 0.2579604983329773 +/- 0.3250528573989868;\n",
      "\t\t Best: 1.184575371127039e-08; Worst: 0.9127745032310486\n",
      "     Periodic CQCA $\\~T_c$: 1.0595953464508057 +/- 0.1412300169467926;\n",
      "\t\t Best: 0.767953097820282; Worst: 1.2271572351455688\n",
      "\n"
     ]
    }
   ],
   "source": [
    "NAME_PLOT = 'Training data generated from fractal CQCA model $\\hat{T}_c$'\n",
    "NAME_MODELS = ['Cluster CQCA $T_c$', 'Fractal CQCA $\\hat{T}_c$', 'Periodic CQCA $\\~T_c$']\n",
    "NUM_MODELS = 10\n",
    "PATHS = [\"results_c_learns_cf_\", \n",
    "         \"results_cf_learns_cf_\",\n",
    "         \"results_cp_learns_cf_\"]\n",
    "\n",
    "\n",
    "plot_results(PATHS, NAME_MODELS, NUM_MODELS, NAME_PLOT)"
   ]
  },
  {
   "cell_type": "markdown",
   "metadata": {},
   "source": [
    "## Periodic cluster CQCA as target"
   ]
  },
  {
   "cell_type": "code",
   "execution_count": 62,
   "metadata": {},
   "outputs": [
    {
     "data": {
      "image/png": "[encoded data removed]",
      "text/plain": [
       "<Figure size 432x288 with 1 Axes>"
      ]
     },
     "metadata": {
      "needs_background": "light"
     },
     "output_type": "display_data"
    },
    {
     "name": "stdout",
     "output_type": "stream",
     "text": [
      "Converged losses:\n",
      "\n",
      "     Cluster CQCA $T_c$: 1.2186912298202515 +/- 0.2308260202407837;\n",
      "\t\t Best: 0.8159035444259644; Worst: 1.6429414749145508\n",
      "     Fractal CQCA $\\hat{T}_c$: 1.3053001165390015 +/- 0.24119149148464203;\n",
      "\t\t Best: 0.9928779006004333; Worst: 1.6700952053070068\n",
      "     Periodic CQCA $\\~T_c$: 0.03156687691807747 +/- 0.05136173591017723;\n",
      "\t\t Best: 1.3025876377525947e-08; Worst: 0.15909643471240997\n",
      "\n"
     ]
    }
   ],
   "source": [
    "NAME_PLOT = 'Training data generated from periodic CQCA model $\\~T_c$'\n",
    "NAME_MODELS = ['Cluster CQCA $T_c$', 'Fractal CQCA $\\hat{T}_c$', 'Periodic CQCA $\\~T_c$']\n",
    "NUM_MODELS = 10\n",
    "PATHS = [\"results_c_learns_cp_\", \n",
    "         \"results_cf_learns_cp_\",\n",
    "         \"results_cp_learns_cp_\"]\n",
    "\n",
    "\n",
    "plot_results(PATHS, NAME_MODELS, NUM_MODELS, NAME_PLOT)"
   ]
  },
  {
   "cell_type": "code",
   "execution_count": null,
   "metadata": {},
   "outputs": [],
   "source": []
  }
 ],
 "metadata": {
  "kernelspec": {
   "display_name": "base",
   "language": "python",
   "name": "python3"
  },
  "language_info": {
   "codemirror_mode": {
    "name": "ipython",
    "version": 3
   },
   "file_extension": ".py",
   "mimetype": "text/x-python",
   "name": "python",
   "nbconvert_exporter": "python",
   "pygments_lexer": "ipython3",
   "version": "3.9.7"
  }
 },
 "nbformat": 4,
 "nbformat_minor": 2
}
